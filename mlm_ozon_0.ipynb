{
  "cells": [
    {
      "cell_type": "code",
      "execution_count": null,
      "metadata": {
        "id": "HW2kHZeJZDSq"
      },
      "outputs": [],
      "source": [
        "import os\n",
        "if 'ozom671games.zip' not in os.listdir():\n",
        "    from google.colab import drive\n",
        "    drive.mount('/content/drive')\n",
        "    !pip install transformers\n",
        "    !pip install sentencepiece\n",
        "    !pip install bitsandbytes\n",
        "    !cp drive/MyDrive/ozom671games.zip ozom671games.zip\n",
        "    !unzip ozom671games.zip\n",
        "    !pip install --upgrade accelerate\n",
        "    !pip install transformers==4.28.0"
      ]
    },
    {
      "cell_type": "code",
      "execution_count": null,
      "metadata": {
        "id": "jTNvIMjEZXta"
      },
      "outputs": [],
      "source": [
        "import pandas as pd\n",
        "import json\n",
        "from tqdm.notebook import tqdm\n",
        "import numpy as np\n",
        "from scipy.spatial.distance import cosine, euclidean\n",
        "from sklearn.metrics import pairwise_distances\n",
        "from sklearn.model_selection import StratifiedKFold\n",
        "from sklearn.metrics import roc_auc_score\n",
        "import torch\n",
        "import os"
      ]
    },
    {
      "cell_type": "code",
      "execution_count": null,
      "metadata": {
        "id": "SD8HmLWJz0QK"
      },
      "outputs": [],
      "source": [
        "import random\n",
        "def seed_everything(seed):\n",
        "    random.seed(seed)\n",
        "    os.environ['PYTHONHASHSEED'] = str(seed)\n",
        "    np.random.seed(seed)\n",
        "    torch.manual_seed(seed)\n",
        "    torch.cuda.manual_seed(seed)\n",
        "    torch.cuda.manual_seed_all(seed)\n",
        "    torch.backends.cudnn.deterministic = True\n",
        "    torch.backends.cudnn.benchmark = False\n",
        "\n",
        "seed_everything(228)"
      ]
    },
    {
      "cell_type": "code",
      "execution_count": null,
      "metadata": {
        "id": "YGs6RWC2bOpB"
      },
      "outputs": [],
      "source": [
        "train = pd.read_parquet('train_data.parquet')\n",
        "target = pd.read_parquet('train_pairs.parquet')"
      ]
    },
    {
      "cell_type": "code",
      "execution_count": null,
      "metadata": {
        "id": "WRcUr9K3VkpJ"
      },
      "outputs": [],
      "source": [
        "test = pd.read_parquet('test_data.parquet')\n",
        "test_target = pd.read_parquet('test_pairs_wo_target.parquet')"
      ]
    },
    {
      "cell_type": "code",
      "execution_count": null,
      "metadata": {
        "id": "8QwTCVpXRWfs"
      },
      "outputs": [],
      "source": [
        "# train['name'] = train['name'].apply(lambda x: x.replace('\\n',' '))\n",
        "# test['name'] = test['name'].apply(lambda x: x.replace('\\n',' '))\n",
        "\n",
        "text  = '\\n'.join(sorted(set(train['name'].tolist() + test['name'].tolist())))\n",
        "with open('train_text.txt','w') as f:\n",
        "    f.write(text)\n",
        "\n",
        "text  = '\\n'.join(test[~test['name'].isin(train['name'])]['name'].unique().tolist()[:1] )\n",
        "with open('val_text.txt','w') as f:\n",
        "    f.write(text)"
      ]
    },
    {
      "cell_type": "code",
      "source": [
        "from transformers import (AutoModel,AutoModelForMaskedLM, \n",
        "                          AutoTokenizer, LineByLineTextDataset,\n",
        "                          DataCollatorForLanguageModeling, PreTrainedTokenizerFast,\n",
        "                          Trainer, TrainingArguments)\n",
        "import re"
      ],
      "metadata": {
        "id": "D2rKhc7zXMhQ"
      },
      "execution_count": null,
      "outputs": []
    },
    {
      "cell_type": "code",
      "execution_count": null,
      "metadata": {
        "id": "bwKteoTGNm68",
        "colab": {
          "base_uri": "https://localhost:8080/"
        },
        "outputId": "bd363e3d-330a-4a6e-abbb-a84eb3c86d96"
      },
      "outputs": [
        {
          "output_type": "stream",
          "name": "stderr",
          "text": [
            "Some weights of the model checkpoint at DeepPavlov/rubert-base-cased were not used when initializing BertForMaskedLM: ['cls.seq_relationship.weight', 'cls.seq_relationship.bias']\n",
            "- This IS expected if you are initializing BertForMaskedLM from the checkpoint of a model trained on another task or with another architecture (e.g. initializing a BertForSequenceClassification model from a BertForPreTraining model).\n",
            "- This IS NOT expected if you are initializing BertForMaskedLM from the checkpoint of a model that you expect to be exactly identical (initializing a BertForSequenceClassification model from a BertForSequenceClassification model).\n"
          ]
        }
      ],
      "source": [
        "model_name = \"DeepPavlov/rubert-base-cased\"\n",
        "model = AutoModelForMaskedLM.from_pretrained(model_name)\n",
        "tokenizer = AutoTokenizer.from_pretrained(model_name, use_fast=True)\n",
        "tokenizer.save_pretrained('./roberta-base');"
      ]
    },
    {
      "cell_type": "code",
      "source": [
        "train_dataset = LineByLineTextDataset(\n",
        "    tokenizer=tokenizer,\n",
        "    file_path=\"train_text.txt\", #mention train text file here\n",
        "    block_size=256)\n",
        "\n",
        "valid_dataset = LineByLineTextDataset(\n",
        "    tokenizer=tokenizer,\n",
        "    file_path=\"val_text.txt\", #mention valid text file here\n",
        "    block_size=256)\n",
        "\n",
        "data_collator = DataCollatorForLanguageModeling(\n",
        "    tokenizer=tokenizer, mlm=True, mlm_probability=0.15)\n",
        "\n",
        "training_args = TrainingArguments(\n",
        "    output_dir=\"./roberta_base_chk\", #select model path for checkpoint\n",
        "    overwrite_output_dir=True,\n",
        "    num_train_epochs=3,\n",
        "    per_device_train_batch_size=16,\n",
        "    per_device_eval_batch_size=16,\n",
        "    evaluation_strategy= 'steps',\n",
        "    save_total_limit=5,\n",
        "    eval_steps=66668,\n",
        "    learning_rate = 2e-5,\n",
        "    fp16 = True,\n",
        "    fp16_full_eval = True,\n",
        "    save_steps = 66668,\n",
        "    gradient_accumulation_steps=1,\n",
        "    metric_for_best_model='eval_loss',\n",
        "    greater_is_better=False,\n",
        "    # load_best_model_at_end =True,\n",
        "    prediction_loss_only=True,\n",
        "    report_to = \"none\")\n",
        "\n",
        "trainer = Trainer(\n",
        "    model=model,\n",
        "    args=training_args,\n",
        "    data_collator=data_collator,\n",
        "    train_dataset=train_dataset,\n",
        "    eval_dataset=valid_dataset)"
      ],
      "metadata": {
        "colab": {
          "base_uri": "https://localhost:8080/"
        },
        "id": "lMoN88NrZ7ss",
        "outputId": "808ca972-0601-44db-9a6f-0f5864cb237a"
      },
      "execution_count": null,
      "outputs": [
        {
          "output_type": "stream",
          "name": "stderr",
          "text": [
            "/usr/local/lib/python3.10/dist-packages/transformers/data/datasets/language_modeling.py:119: FutureWarning: This dataset will be removed from the library soon, preprocessing should be handled with the 🤗 Datasets library. You can have a look at this example script for pointers: https://github.com/huggingface/transformers/blob/main/examples/pytorch/language-modeling/run_mlm.py\n",
            "  warnings.warn(\n"
          ]
        }
      ]
    },
    {
      "cell_type": "code",
      "source": [
        "trainer.train()\n",
        "trainer.save_model('./roberta-base')"
      ],
      "metadata": {
        "id": "YoBTyNRhcA7W"
      },
      "execution_count": 1,
      "outputs": []
    },
    {
      "cell_type": "code",
      "source": [
        "!zip -r drive/MyDrive/pretrain.zip /content/roberta_base_chk/checkpoint-66668"
      ],
      "metadata": {
        "colab": {
          "base_uri": "https://localhost:8080/"
        },
        "id": "nc-BcK4WW4yn",
        "outputId": "09d63cf7-d481-4c64-ef31-7add0819c5ec"
      },
      "execution_count": null,
      "outputs": [
        {
          "output_type": "stream",
          "name": "stdout",
          "text": [
            "  adding: content/roberta_base_chk/checkpoint-66668/ (stored 0%)\n",
            "  adding: content/roberta_base_chk/checkpoint-66668/training_args.bin (deflated 48%)\n",
            "  adding: content/roberta_base_chk/checkpoint-66668/config.json (deflated 52%)\n",
            "  adding: content/roberta_base_chk/checkpoint-66668/pytorch_model.bin (deflated 8%)\n",
            "  adding: content/roberta_base_chk/checkpoint-66668/scaler.pt (deflated 55%)\n",
            "  adding: content/roberta_base_chk/checkpoint-66668/generation_config.json (deflated 8%)\n",
            "  adding: content/roberta_base_chk/checkpoint-66668/optimizer.pt (deflated 7%)\n",
            "  adding: content/roberta_base_chk/checkpoint-66668/scheduler.pt (deflated 48%)\n"
          ]
        }
      ]
    },
    {
      "cell_type": "code",
      "source": [],
      "metadata": {
        "id": "omnQ686DamOn"
      },
      "execution_count": null,
      "outputs": []
    },
    {
      "cell_type": "code",
      "source": [],
      "metadata": {
        "id": "JpOaoM1-aXoc"
      },
      "execution_count": null,
      "outputs": []
    },
    {
      "cell_type": "code",
      "source": [],
      "metadata": {
        "id": "Z3-R9qdpaXqw"
      },
      "execution_count": null,
      "outputs": []
    },
    {
      "cell_type": "code",
      "source": [],
      "metadata": {
        "id": "zN22PJ5TZ7vU"
      },
      "execution_count": null,
      "outputs": []
    },
    {
      "cell_type": "code",
      "source": [],
      "metadata": {
        "id": "DYDumt39Z7zT"
      },
      "execution_count": null,
      "outputs": []
    }
  ],
  "metadata": {
    "accelerator": "GPU",
    "colab": {
      "machine_shape": "hm",
      "provenance": [],
      "gpuType": "V100"
    },
    "gpuClass": "standard",
    "kernelspec": {
      "display_name": "Python 3",
      "name": "python3"
    },
    "language_info": {
      "name": "python"
    }
  },
  "nbformat": 4,
  "nbformat_minor": 0
}