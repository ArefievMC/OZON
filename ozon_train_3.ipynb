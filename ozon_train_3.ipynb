{
  "cells": [
    {
      "cell_type": "code",
      "execution_count": null,
      "metadata": {
        "id": "HW2kHZeJZDSq"
      },
      "outputs": [],
      "source": [
        "import os\n",
        "if 'ozom671games.zip' not in os.listdir():\n",
        "    from google.colab import drive\n",
        "    drive.mount('/content/drive')\n",
        "    !pip install transformers\n",
        "    !pip install sentencepiece\n",
        "    !pip install bitsandbytes\n",
        "    !cp drive/MyDrive/ozon/ozom671games.zip ozom671games.zip\n",
        "    !unzip ozom671games.zip"
      ]
    },
    {
      "cell_type": "code",
      "execution_count": null,
      "metadata": {
        "id": "jTNvIMjEZXta"
      },
      "outputs": [],
      "source": [
        "import pandas as pd\n",
        "import json\n",
        "from tqdm.notebook import tqdm\n",
        "import numpy as np\n",
        "from scipy.spatial.distance import cosine, euclidean\n",
        "from sklearn.metrics import pairwise_distances\n",
        "from sklearn.model_selection import StratifiedKFold\n",
        "from sklearn.metrics import roc_auc_score\n",
        "import torch"
      ]
    },
    {
      "cell_type": "code",
      "execution_count": null,
      "metadata": {
        "id": "SD8HmLWJz0QK"
      },
      "outputs": [],
      "source": [
        "import random\n",
        "def seed_everything(seed):\n",
        "    random.seed(seed)\n",
        "    os.environ['PYTHONHASHSEED'] = str(seed)\n",
        "    np.random.seed(seed)\n",
        "    torch.manual_seed(seed)\n",
        "    torch.cuda.manual_seed(seed)\n",
        "    torch.cuda.manual_seed_all(seed)\n",
        "    torch.backends.cudnn.deterministic = True\n",
        "    torch.backends.cudnn.benchmark = False\n",
        "\n",
        "seed_everything(228)"
      ]
    },
    {
      "cell_type": "code",
      "execution_count": null,
      "metadata": {
        "id": "YGs6RWC2bOpB"
      },
      "outputs": [],
      "source": [
        "train = pd.read_parquet('train_data.parquet')\n",
        "target = pd.read_parquet('train_pairs.parquet')"
      ]
    },
    {
      "cell_type": "code",
      "execution_count": null,
      "metadata": {
        "id": "KqlSLx3BEFVX"
      },
      "outputs": [],
      "source": [
        "# json.loads(data['categories_1'][0])['3']"
      ]
    },
    {
      "cell_type": "code",
      "execution_count": null,
      "metadata": {
        "id": "sBkJpIQN34Fo"
      },
      "outputs": [],
      "source": [
        "ltr = len(target)"
      ]
    },
    {
      "cell_type": "code",
      "execution_count": null,
      "metadata": {
        "id": "WRcUr9K3VkpJ"
      },
      "outputs": [],
      "source": [
        "test = pd.read_parquet('test_data.parquet')\n",
        "test_target = pd.read_parquet('test_pairs_wo_target.parquet')"
      ]
    },
    {
      "cell_type": "code",
      "execution_count": null,
      "metadata": {
        "id": "0mgsGmuv4x8E"
      },
      "outputs": [],
      "source": [
        "target = pd.concat([target, test_target]).reset_index(drop = True)"
      ]
    },
    {
      "cell_type": "code",
      "execution_count": null,
      "metadata": {
        "id": "8QwTCVpXRWfs"
      },
      "outputs": [],
      "source": [
        "data = pd.concat([train, test[~test.variantid.isin(train['variantid'].unique())] ])"
      ]
    },
    {
      "cell_type": "code",
      "execution_count": null,
      "metadata": {
        "id": "mqQtrdo8Tmoz"
      },
      "outputs": [],
      "source": [
        "data = target.merge(data[['name', 'variantid', 'categories', 'color_parsed']], right_on = 'variantid', left_on = 'variantid1', how = 'left').merge(\n",
        "    data[['name', 'variantid', 'categories', 'color_parsed']], right_on = 'variantid', left_on = 'variantid2', how = 'left', suffixes=('_1', '_2'))"
      ]
    },
    {
      "cell_type": "code",
      "execution_count": null,
      "metadata": {
        "id": "bwKteoTGNm68"
      },
      "outputs": [],
      "source": [
        "# [len(x) for x in train['color_parsed'] if x is not None]"
      ]
    },
    {
      "cell_type": "code",
      "execution_count": null,
      "metadata": {
        "id": "w7Q7VwfM3PMF"
      },
      "outputs": [],
      "source": [
        "from transformers import AdamW, AutoConfig, AutoModel, AutoTokenizer, get_cosine_schedule_with_warmup\n",
        "import numpy as np\n",
        "import torch\n",
        "from sklearn.model_selection import StratifiedKFold, GroupKFold, KFold"
      ]
    },
    {
      "cell_type": "code",
      "execution_count": null,
      "metadata": {
        "colab": {
          "base_uri": "https://localhost:8080/"
        },
        "id": "5LLqYa8w3PPC",
        "outputId": "88fe4b64-e909-4830-ae34-114c062353c5"
      },
      "outputs": [
        {
          "name": "stderr",
          "output_type": "stream",
          "text": [
            "/usr/local/lib/python3.10/dist-packages/sklearn/model_selection/_split.py:700: UserWarning: The least populated class in y has only 1 members, which is less than n_splits=5.\n",
            "  warnings.warn(\n"
          ]
        }
      ],
      "source": [
        "data['cat_3'] = [json.loads(x)['3'] for x in data['categories_1']]\n",
        "data['tmp'] = data['target'].astype('str') + '_' + data['cat_3']\n",
        "\n",
        "def standart_split(data, target, n_splits = 5):\n",
        "    split_list = []\n",
        "    kf = StratifiedKFold(n_splits = n_splits, shuffle = True, random_state = 228)\n",
        "    for train_index, test_index in kf.split(data.loc[:ltr-1,:], data['tmp'][:ltr]) :\n",
        "        split_list += [(train_index, test_index)]\n",
        "    return split_list\n",
        "\n",
        "split_list = standart_split(data, 'target')"
      ]
    },
    {
      "cell_type": "code",
      "execution_count": null,
      "metadata": {
        "id": "HSSkXAN33PR-"
      },
      "outputs": [],
      "source": [
        "import torch\n",
        "import torch.nn as nn\n",
        "from torch.nn import Parameter\n",
        "import torch.nn.functional as F\n",
        "\n",
        "from torch.optim import Adam, SGD, AdamW\n",
        "from torch.utils.data import DataLoader, Dataset"
      ]
    },
    {
      "cell_type": "code",
      "execution_count": null,
      "metadata": {
        "id": "m_WJt7J_4DTq"
      },
      "outputs": [],
      "source": [
        "class TrainDataset(Dataset):\n",
        "    def __init__(self, df, tokenizer, max_len, shuffle = 0):\n",
        "        self.tokenizer = tokenizer\n",
        "        self.max_len = max_len\n",
        "        self.texts_1 = df['name_1'].values\n",
        "        self.texts_2 = df['name_2'].values\n",
        "        self.cats_1 = df['color_parsed_1'].values\n",
        "        self.cats_2 = df['color_parsed_2'].values\n",
        "        self.target = df['target'].values\n",
        "        self.shuffle = shuffle\n",
        "\n",
        "    def __len__(self):\n",
        "        return len(self.texts_1)\n",
        "\n",
        "    def __getitem__(self, item):\n",
        "        inputs = [self.texts_1[item], self.texts_2[item]]\n",
        "\n",
        "        if self.shuffle == 1:\n",
        "            text_1 = self.texts_2[item] \n",
        "            text_2 = self.texts_1[item]\n",
        "        elif self.shuffle == 2:\n",
        "            if random.random() > 0.5:\n",
        "                text_1 = self.texts_2[item] \n",
        "                text_2 = self.texts_1[item]\n",
        "            else :\n",
        "                text_1 = self.texts_1[item] \n",
        "                text_2 = self.texts_2[item]\n",
        "        else:\n",
        "            text_1 = self.texts_1[item]\n",
        "            text_2 = self.texts_2[item]\n",
        "\n",
        "        # json.loads(self.cats_2[item])['3'] + \". \" + json.loads(self.cats_2[item])['4'] + \". \" + self.texts_2[item]\n",
        "        # drp = set(text_1.split())\n",
        "        # text_2 = ' '.join([x for x in text_2.split() if x not in drp])\n",
        "        token_inputs = tokenizer.encode_plus(\n",
        "                    text_1,\n",
        "                    text_2,\n",
        "                    add_special_tokens=True,\n",
        "                    max_length=self.max_len,\n",
        "                    padding=\"do_not_pad\",\n",
        "                    truncation=True,\n",
        "                    # padding=\"max_length\",\n",
        "                    # truncation=True,\n",
        "                )\n",
        "        label = self.target[item]\n",
        "        return token_inputs, label"
      ]
    },
    {
      "cell_type": "code",
      "execution_count": null,
      "metadata": {
        "id": "vgw9pYFFbcIf"
      },
      "outputs": [],
      "source": [
        "# random.random()"
      ]
    },
    {
      "cell_type": "code",
      "execution_count": null,
      "metadata": {
        "id": "VVxQ7oD-SqA-"
      },
      "outputs": [],
      "source": [
        "class CustomModel(nn.Module):\n",
        "    def __init__(self, model, fc_dropout = [0.3], nn_dp = 0.1, lns = 1e-07, config_path=None, pretrained=False):\n",
        "        super().__init__()\n",
        "        # self.cfg = cfg\n",
        "        if config_path is None:\n",
        "            self.config = AutoConfig.from_pretrained(model)\n",
        "        else:\n",
        "            self.config = torch.load(config_path)\n",
        "\n",
        "        self.config.update(\n",
        "            {\n",
        "                'hidden_dropout_prob': nn_dp,\n",
        "                \"output_hidden_states\": True,\n",
        "                'layer_norm_eps': lns,\n",
        "                # \"add_pooling_layer\": True,\n",
        "                # \"use_cache\" : False,\n",
        "                \"num_labels\": 2,\n",
        "            }\n",
        "        )\n",
        "\n",
        "        if pretrained:\n",
        "            self.model = AutoModel.from_pretrained(model, config=self.config)\n",
        "            # self.model.gradient_checkpointing_enable()\n",
        "        else:\n",
        "            self.model = AutoModel(self.config)\n",
        "            # self.model.gradient_checkpointing_enable()\n",
        "        \n",
        "\n",
        "        self.num_dropout = len(fc_dropout)\n",
        "        self.fc_dropout0 = nn.Dropout(fc_dropout[0])\n",
        "        self.fc_dropout1 = nn.Dropout(fc_dropout[1] if len(fc_dropout) > 1 else 0)\n",
        "        self.fc_dropout2 = nn.Dropout(fc_dropout[2] if len(fc_dropout) > 2 else 0)\n",
        "        self.fc_dropout3 = nn.Dropout(fc_dropout[3] if len(fc_dropout) > 3 else 0)\n",
        "        self.fc_dropout4 = nn.Dropout(fc_dropout[4] if len(fc_dropout) > 4 else 0)\n",
        "\n",
        "        self.fc = nn.Linear(self.config.hidden_size, 1)\n",
        "        # self._init_weights(self.fc)\n",
        "        \n",
        "    def _init_weights(self, module):\n",
        "        if isinstance(module, nn.Linear):\n",
        "            module.weight.data.normal_(mean=0.0, std=self.config.initializer_range)\n",
        "            if module.bias is not None:\n",
        "                module.bias.data.zero_()\n",
        "        elif isinstance(module, nn.Embedding):\n",
        "            module.weight.data.normal_(mean=0.0, std=self.config.initializer_range)\n",
        "            if module.padding_idx is not None:\n",
        "                module.weight.data[module.padding_idx].zero_()\n",
        "        elif isinstance(module, nn.LayerNorm):\n",
        "            module.bias.data.zero_()\n",
        "            module.weight.data.fill_(1.0)\n",
        "        \n",
        "    def feature(self, inputs):\n",
        "        outputs = self.model(**inputs)\n",
        "        # print(outputs)\n",
        "        # last_hidden_states = outputs.pooler_output\n",
        "        # last_hidden_states = outputs.last_hidden_state.mean(dim=1)\n",
        "        last_hidden_states = outputs[0][:,0,:].squeeze(1)\n",
        "        return last_hidden_states\n",
        "\n",
        "    def forward(self, inputs):\n",
        "        feature = self.feature(inputs)\n",
        "        output_list = []\n",
        "        output0 = self.fc(self.fc_dropout0(feature))\n",
        "        output1 = self.fc(self.fc_dropout1(feature))\n",
        "        output2 = self.fc(self.fc_dropout2(feature))\n",
        "        output3 = self.fc(self.fc_dropout3(feature))\n",
        "        output4 = self.fc(self.fc_dropout4(feature))\n",
        "        \n",
        "        output_list = [output0, output1, output2, output3, output4]\n",
        "        return output_list[:self.num_dropout]"
      ]
    },
    {
      "cell_type": "code",
      "execution_count": null,
      "metadata": {
        "id": "mmQzaL5eSqGU"
      },
      "outputs": [],
      "source": [
        "from transformers.models.deberta_v2 import DebertaV2TokenizerFast\n",
        "from tqdm.notebook import tqdm"
      ]
    },
    {
      "cell_type": "code",
      "execution_count": null,
      "metadata": {
        "id": "1SsrS1gMjuya"
      },
      "outputs": [],
      "source": [
        "def make_predict(model, valid_dataloader, criterion, epoch, valid_target):\n",
        "    preds = []\n",
        "    model.eval()\n",
        "    len_loader = len(valid_dataloader)\n",
        "    tk0 = tqdm(enumerate(valid_dataloader), total = len_loader)\n",
        "    average_loss = 0\n",
        "    with torch.no_grad():\n",
        "        for batch_number,  (inputs, labels)  in tk0:\n",
        "            for k, v in inputs.items():\n",
        "                inputs[k] = v.cuda()\n",
        "            labels = labels.cuda()\n",
        "\n",
        "            with torch.cuda.amp.autocast():\n",
        "                y_preds_list  = model(inputs)\n",
        "                loss_list = [criterion(pred[:, 0], labels) for pred in y_preds_list]\n",
        "                loss = sum(loss_list) / len(loss_list)\n",
        "                \n",
        "            y_preds = sum(y_preds_list) / len(y_preds_list)\n",
        "\n",
        "            average_loss += loss.cpu().detach().numpy()\n",
        "            tk0.set_postfix(loss=average_loss / (batch_number + 1), stage=\"validation\", epoch = epoch)\n",
        "            preds += [y_preds.sigmoid().to('cpu').numpy()]\n",
        "    preds = np.concatenate(preds)[:, 0]\n",
        "    return preds"
      ]
    },
    {
      "cell_type": "code",
      "execution_count": null,
      "metadata": {
        "id": "P8izmT_ZR06N"
      },
      "outputs": [],
      "source": [
        "class Collate:\n",
        "    def __init__(self, tokenizer, is_train = True):\n",
        "        self.tokenizer = tokenizer\n",
        "        self.is_train = is_train\n",
        "    def __call__(self, batch):\n",
        "\n",
        "        inputs = [sample[0] for sample in batch]\n",
        "        labels = [sample[1] for sample in batch]\n",
        "        # print(inputs[0])\n",
        "\n",
        "        # calculate max token length of this batch\n",
        "        batch_max = max([len(ids['input_ids']) for ids in inputs])\n",
        "        # add padding\n",
        "        # print(inputs[0])\n",
        "        inputs_dict = dict()\n",
        "        inputs_dict[\"attention_mask\"] = [s['attention_mask'] + (batch_max - len(s['attention_mask'])) * [0] for s in inputs]\n",
        "        inputs_dict[\"input_ids\"] = [s['input_ids'] + (batch_max - len(s['attention_mask'])) * [0] for s in inputs]\n",
        "\n",
        "        # labels = [s.tolist() for s in labels]\n",
        "\n",
        "        # convert to tensors\n",
        "        inputs_dict[\"attention_mask\"] = torch.tensor(inputs_dict[\"attention_mask\"], dtype=torch.long)\n",
        "        inputs_dict[\"input_ids\"] = torch.tensor(inputs_dict[\"input_ids\"], dtype=torch.long)\n",
        "\n",
        "        labels = torch.tensor(labels, dtype=torch.float)\n",
        "\n",
        "        return inputs_dict, labels"
      ]
    },
    {
      "cell_type": "code",
      "execution_count": null,
      "metadata": {
        "id": "koHr7-qeK044"
      },
      "outputs": [],
      "source": [
        "def standart_split(data, target, ltr, n_splits = 5):\n",
        "    split_list = []\n",
        "    kf = GroupKFold(n_splits = n_splits)\n",
        "    for train_index, test_index in kf.split(data.loc[:ltr-1,:], data['target'][:ltr], data['variantid1'][:ltr]) :\n",
        "        # test_index = data.loc[test_index][data.loc[test_index, 'type'] == 1].index\n",
        "        split_list += [(train_index, test_index)]\n",
        "    return split_list\n",
        "\n",
        "split_list = standart_split(data, 'target', ltr)"
      ]
    },
    {
      "cell_type": "code",
      "execution_count": null,
      "metadata": {
        "colab": {
          "background_save": true,
          "base_uri": "https://localhost:8080/",
          "height": 202,
          "referenced_widgets": [
            "ee4381c3be52489d8c2d0b4e6b04a6b8",
            "5f11b756b916446d908c85895d166943",
            "caa1ad7b2a0b4bf2a746f0223fe02b0a",
            "a023c71edd0344d1833de98ed237cdb5",
            "0dc528c3b1784c7d891179e4f14f5511",
            "8b8006cc4ee34bf2946db9f69b22f5cf",
            "fb7764040c5f4708b7beef1910d5596a",
            "821b125dbfa247d495b7918d16c27348",
            "05718bbd197c4bdb9d6d783b697c26d2",
            "357cd5c687a14b9c876cf9c725d885fa",
            "01aefe10c0e447f88c4d55a4aa7fe07a",
            "bff9a2ec726445f39d31d0d49aa64827",
            "04dd590fd2304686b7ae408142c9476d",
            "62218981bfe149a1aae34dfef55495e4",
            "b8b569c8ff4949b499280f0d9025ecee",
            "d8464e4a75454c13b0ce4ea03fc25753",
            "5978c17e01a941a4ab0ce3755ff4960e",
            "2f9d29a67a8a47948c8a85ffaeedd0b9",
            "6b29793b563c443a979119ebf0fe9cd4",
            "d8b69b26ade64fb19b2e9ba2087dfce7",
            "947a0407567448878bd69d766d3baa11",
            "050c411914344e229cf572bc63b5848c",
            "fa808ed2342f4b5884018ccaf2f20a82",
            "d85d0a4d2fe04ac18990facdfe17bbba",
            "877461f99f184263ae68fefa69201f46",
            "0931903a1aac4ed48481dbd2614c3a4d",
            "b9896c5649154db68f98e873feefa161",
            "e153ae1dfa4f4b849b3fe0a159eb8aa8",
            "02fb75b191f748148ddce8a603230b9d",
            "9574f74ebded403fb5e35352df2c6384",
            "136cae01a3c94921994987c4fabf3ad1",
            "b5bf4a29e2de43d483bf80bf4cb91e4c",
            "2f8283c85f394acfb0fee123e366e472",
            "aed5c9b64d6c4646a19e0dcbf7bde9f8",
            "b491b99d8ee54be8b3148618fe8d9b33",
            "97cc134c354d4cea82299f5874e69620",
            "2a9335d2f29b46f7a9617bc81ed21772",
            "7699e2eba1b14b3698c5b308b4b973b0",
            "df9ca212c7eb4ed4a70b23b01d1e29a3",
            "c85e55307d1c478ab7ff22f276519c8e",
            "b059aeda301241b7b1516dd06ec832af",
            "24832a08e853410f811824a4bc789378"
          ]
        },
        "id": "Tcbyu-2nF4qz",
        "outputId": "f07980e7-e15d-4fee-f85e-ae03aa8e7a5c"
      },
      "outputs": [
        {
          "name": "stderr",
          "output_type": "stream",
          "text": [
            "Some weights of the model checkpoint at DeepPavlov/rubert-base-cased-conversational were not used when initializing BertModel: ['cls.predictions.bias', 'cls.predictions.transform.LayerNorm.bias', 'cls.predictions.decoder.weight', 'cls.predictions.decoder.bias', 'cls.predictions.transform.LayerNorm.weight', 'cls.seq_relationship.weight', 'cls.predictions.transform.dense.weight', 'cls.predictions.transform.dense.bias', 'cls.seq_relationship.bias']\n",
            "- This IS expected if you are initializing BertModel from the checkpoint of a model trained on another task or with another architecture (e.g. initializing a BertForSequenceClassification model from a BertForPreTraining model).\n",
            "- This IS NOT expected if you are initializing BertModel from the checkpoint of a model that you expect to be exactly identical (initializing a BertForSequenceClassification model from a BertForSequenceClassification model).\n"
          ]
        },
        {
          "name": "stdout",
          "output_type": "stream",
          "text": [
            "[0, 2189, 4379, 6568, 8758, 10947, 13137]\n"
          ]
        },
        {
          "data": {
            "application/vnd.jupyter.widget-view+json": {
              "model_id": "ee4381c3be52489d8c2d0b4e6b04a6b8",
              "version_major": 2,
              "version_minor": 0
            },
            "text/plain": [
              "  0%|          | 0/15327 [00:00<?, ?it/s]"
            ]
          },
          "metadata": {},
          "output_type": "display_data"
        },
        {
          "data": {
            "application/vnd.jupyter.widget-view+json": {
              "model_id": "bff9a2ec726445f39d31d0d49aa64827",
              "version_major": 2,
              "version_minor": 0
            },
            "text/plain": [
              "  0%|          | 0/15327 [00:00<?, ?it/s]"
            ]
          },
          "metadata": {},
          "output_type": "display_data"
        },
        {
          "data": {
            "application/vnd.jupyter.widget-view+json": {
              "model_id": "fa808ed2342f4b5884018ccaf2f20a82",
              "version_major": 2,
              "version_minor": 0
            },
            "text/plain": [
              "  0%|          | 0/15327 [00:00<?, ?it/s]"
            ]
          },
          "metadata": {},
          "output_type": "display_data"
        },
        {
          "name": "stderr",
          "output_type": "stream",
          "text": [
            "Some weights of the model checkpoint at DeepPavlov/rubert-base-cased-conversational were not used when initializing BertModel: ['cls.predictions.bias', 'cls.predictions.transform.LayerNorm.bias', 'cls.predictions.decoder.weight', 'cls.predictions.decoder.bias', 'cls.predictions.transform.LayerNorm.weight', 'cls.seq_relationship.weight', 'cls.predictions.transform.dense.weight', 'cls.predictions.transform.dense.bias', 'cls.seq_relationship.bias']\n",
            "- This IS expected if you are initializing BertModel from the checkpoint of a model trained on another task or with another architecture (e.g. initializing a BertForSequenceClassification model from a BertForPreTraining model).\n",
            "- This IS NOT expected if you are initializing BertModel from the checkpoint of a model that you expect to be exactly identical (initializing a BertForSequenceClassification model from a BertForSequenceClassification model).\n"
          ]
        },
        {
          "name": "stdout",
          "output_type": "stream",
          "text": [
            "[0, 2189, 4379, 6568, 8758, 10947, 13137]\n"
          ]
        },
        {
          "data": {
            "application/vnd.jupyter.widget-view+json": {
              "model_id": "aed5c9b64d6c4646a19e0dcbf7bde9f8",
              "version_major": 2,
              "version_minor": 0
            },
            "text/plain": [
              "  0%|          | 0/15327 [00:00<?, ?it/s]"
            ]
          },
          "metadata": {},
          "output_type": "display_data"
        },
        {
          "data": {
            "application/vnd.jupyter.widget-view+json": {
              "model_id": "b491b99d8ee54be8b3148618fe8d9b33",
              "version_major": 2,
              "version_minor": 0
            },
            "text/plain": [
              "  0%|          | 0/15327 [00:00<?, ?it/s]"
            ]
          },
          "metadata": {},
          "output_type": "display_data"
        },
        {
          "data": {
            "application/vnd.jupyter.widget-view+json": {
              "model_id": "97cc134c354d4cea82299f5874e69620",
              "version_major": 2,
              "version_minor": 0
            },
            "text/plain": [
              "  0%|          | 0/15327 [00:00<?, ?it/s]"
            ]
          },
          "metadata": {},
          "output_type": "display_data"
        },
        {
          "name": "stderr",
          "output_type": "stream",
          "text": [
            "Some weights of the model checkpoint at DeepPavlov/rubert-base-cased-conversational were not used when initializing BertModel: ['cls.predictions.bias', 'cls.predictions.transform.LayerNorm.bias', 'cls.predictions.decoder.weight', 'cls.predictions.decoder.bias', 'cls.predictions.transform.LayerNorm.weight', 'cls.seq_relationship.weight', 'cls.predictions.transform.dense.weight', 'cls.predictions.transform.dense.bias', 'cls.seq_relationship.bias']\n",
            "- This IS expected if you are initializing BertModel from the checkpoint of a model trained on another task or with another architecture (e.g. initializing a BertForSequenceClassification model from a BertForPreTraining model).\n",
            "- This IS NOT expected if you are initializing BertModel from the checkpoint of a model that you expect to be exactly identical (initializing a BertForSequenceClassification model from a BertForSequenceClassification model).\n"
          ]
        },
        {
          "name": "stdout",
          "output_type": "stream",
          "text": [
            "[0, 2189, 4379, 6568, 8758, 10947, 13137]\n"
          ]
        },
        {
          "data": {
            "application/vnd.jupyter.widget-view+json": {
              "model_id": "2a9335d2f29b46f7a9617bc81ed21772",
              "version_major": 2,
              "version_minor": 0
            },
            "text/plain": [
              "  0%|          | 0/15327 [00:00<?, ?it/s]"
            ]
          },
          "metadata": {},
          "output_type": "display_data"
        },
        {
          "data": {
            "application/vnd.jupyter.widget-view+json": {
              "model_id": "7699e2eba1b14b3698c5b308b4b973b0",
              "version_major": 2,
              "version_minor": 0
            },
            "text/plain": [
              "  0%|          | 0/15327 [00:00<?, ?it/s]"
            ]
          },
          "metadata": {},
          "output_type": "display_data"
        },
        {
          "data": {
            "application/vnd.jupyter.widget-view+json": {
              "model_id": "df9ca212c7eb4ed4a70b23b01d1e29a3",
              "version_major": 2,
              "version_minor": 0
            },
            "text/plain": [
              "  0%|          | 0/15327 [00:00<?, ?it/s]"
            ]
          },
          "metadata": {},
          "output_type": "display_data"
        },
        {
          "name": "stderr",
          "output_type": "stream",
          "text": [
            "Some weights of the model checkpoint at DeepPavlov/rubert-base-cased-conversational were not used when initializing BertModel: ['cls.predictions.bias', 'cls.predictions.transform.LayerNorm.bias', 'cls.predictions.decoder.weight', 'cls.predictions.decoder.bias', 'cls.predictions.transform.LayerNorm.weight', 'cls.seq_relationship.weight', 'cls.predictions.transform.dense.weight', 'cls.predictions.transform.dense.bias', 'cls.seq_relationship.bias']\n",
            "- This IS expected if you are initializing BertModel from the checkpoint of a model trained on another task or with another architecture (e.g. initializing a BertForSequenceClassification model from a BertForPreTraining model).\n",
            "- This IS NOT expected if you are initializing BertModel from the checkpoint of a model that you expect to be exactly identical (initializing a BertForSequenceClassification model from a BertForSequenceClassification model).\n"
          ]
        },
        {
          "name": "stdout",
          "output_type": "stream",
          "text": [
            "[0, 2189, 4379, 6568, 8758, 10947, 13137]\n"
          ]
        },
        {
          "data": {
            "application/vnd.jupyter.widget-view+json": {
              "model_id": "c85e55307d1c478ab7ff22f276519c8e",
              "version_major": 2,
              "version_minor": 0
            },
            "text/plain": [
              "  0%|          | 0/15327 [00:00<?, ?it/s]"
            ]
          },
          "metadata": {},
          "output_type": "display_data"
        },
        {
          "name": "stderr",
          "output_type": "stream",
          "text": [
            "/usr/local/lib/python3.10/dist-packages/torch/optim/lr_scheduler.py:139: UserWarning: Detected call of `lr_scheduler.step()` before `optimizer.step()`. In PyTorch 1.1.0 and later, you should call them in the opposite order: `optimizer.step()` before `lr_scheduler.step()`.  Failure to do this will result in PyTorch skipping the first value of the learning rate schedule. See more details at https://pytorch.org/docs/stable/optim.html#how-to-adjust-learning-rate\n",
            "  warnings.warn(\"Detected call of `lr_scheduler.step()` before `optimizer.step()`. \"\n"
          ]
        },
        {
          "data": {
            "application/vnd.jupyter.widget-view+json": {
              "model_id": "b059aeda301241b7b1516dd06ec832af",
              "version_major": 2,
              "version_minor": 0
            },
            "text/plain": [
              "  0%|          | 0/15327 [00:00<?, ?it/s]"
            ]
          },
          "metadata": {},
          "output_type": "display_data"
        },
        {
          "data": {
            "application/vnd.jupyter.widget-view+json": {
              "model_id": "24832a08e853410f811824a4bc789378",
              "version_major": 2,
              "version_minor": 0
            },
            "text/plain": [
              "  0%|          | 0/15327 [00:00<?, ?it/s]"
            ]
          },
          "metadata": {},
          "output_type": "display_data"
        }
      ],
      "source": [
        "max_len = 420\n",
        "max_val_len = 400\n",
        "\n",
        "batch_size = 16\n",
        "epochs = 3\n",
        "lr = 2e-5\n",
        "fp16 = True\n",
        "clip_grad_norm = 5\n",
        "\n",
        "model_name = \"DeepPavlov/rubert-base-cased\"\n",
        "fc_dropout= [0.1, 0.2, 0.3, 0.4, 0.5]\n",
        "# fc_dropout= [0.1, 0.2, 0.3]\n",
        "tokenizer = AutoTokenizer.from_pretrained(model_name)\n",
        "# tokenizer.pad_token = tokenizer.eos_token\n",
        "weight_decay = 0.01\n",
        "eps = 1e-6\n",
        "betas = (0.9, 0.99)\n",
        "scheduler = 'cosine' # ['linear', 'cosine']\n",
        "accumulation_steps = 1\n",
        "batch_scheduler = True\n",
        "\n",
        "\n",
        "params_train = {'batch_size': batch_size, 'shuffle': True, 'drop_last': False, 'num_workers': 4}\n",
        "params_valid = {'batch_size': batch_size, 'shuffle': False, 'drop_last': False, 'num_workers': 4}\n",
        "\n",
        "for fold in [0, 1, 2, 3, 4]:\n",
        "    ckp = f'model_n1{fold}'\n",
        "    criterion = nn.BCEWithLogitsLoss()\n",
        "      \n",
        "    train_df = data.loc[split_list[fold][0]].reset_index(drop=True)\n",
        "    valid_df = data.loc[split_list[fold][1]].reset_index(drop=True)\n",
        "    model = CustomModel(model_name, fc_dropout, pretrained = True).cuda()\n",
        "\n",
        "    model.train()\n",
        "    # model_dict = torch.load(\"content/roberta_base_chk/checkpoint-66668/pytorch_model.bin\", map_location='cuda')\n",
        "    # new_model_dict = {k.replace('bert', 'model'):v for k,v in model_dict.items()}\n",
        "    # model.load_state_dict(new_model_dict, strict=False)\n",
        "\n",
        "    scaler = torch.cuda.amp.GradScaler(enabled = True)\n",
        "    collate_fn = Collate(tokenizer)\n",
        "    train_dataloader = DataLoader( TrainDataset(train_df, tokenizer, max_len), collate_fn  = collate_fn, **params_train)\n",
        "\n",
        "    param_optimizer = list(model.named_parameters())\n",
        "    no_decay = [\"bias\", \"LayerNorm.bias\", \"LayerNorm.weight\"]\n",
        "    optimizer_parameters = [\n",
        "        {'params': [p for n, p in model.model.named_parameters() if not any(nd in n for nd in no_decay)],\n",
        "          'lr': lr, 'weight_decay': weight_decay},\n",
        "        {'params': [p for n, p in model.model.named_parameters() if any(nd in n for nd in no_decay)],\n",
        "          'lr': lr, 'weight_decay': 0.0},\n",
        "        {'params': [p for n, p in model.named_parameters() if \"model\" not in n],\n",
        "          'lr': lr, 'weight_decay': 0.0}\n",
        "    ]\n",
        "\n",
        "\n",
        "    optimizer = AdamW(optimizer_parameters, lr=lr, eps=eps, betas=betas)\n",
        "    \n",
        "    num_train_steps = int(len(train_df) / batch_size * epochs) // accumulation_steps\n",
        "\n",
        "\n",
        "    scheduler = torch.optim.lr_scheduler.LinearLR(optimizer, 1, 0.01, num_train_steps, -1)\n",
        "\n",
        "    best_score = -1\n",
        "    len_dataloader = len(train_dataloader)\n",
        "    num_check = 7\n",
        "    check_epoch_list = [int(x / num_check * len_dataloader) for x in range(num_check)]\n",
        "    print(check_epoch_list)\n",
        "    for epoch in range(epochs):\n",
        "        if epoch == 1:\n",
        "            train_dataloader = DataLoader( TrainDataset(train_df, tokenizer, max_len, 1), collate_fn  = collate_fn, **params_train)\n",
        "        elif epoch == 2:\n",
        "            train_dataloader = DataLoader( TrainDataset(train_df, tokenizer, max_len, 2), collate_fn  = collate_fn, **params_train)\n",
        "        average_loss = 0\n",
        "        tk0 = tqdm(enumerate(train_dataloader), total = len_dataloader)\n",
        "        for batch_number,  (inputs, labels)  in tk0:\n",
        "            # hui\n",
        "            for k, v in inputs.items():\n",
        "                inputs[k] = v.cuda()\n",
        "            labels = labels.cuda()\n",
        "\n",
        "            with torch.cuda.amp.autocast():\n",
        "                y_preds_list  = model(inputs)\n",
        "                loss_list = [criterion(pred[:, 0], labels) for pred in y_preds_list]\n",
        "                loss = sum(loss_list) / len(loss_list)\n",
        "\n",
        "            optimizer.zero_grad()\n",
        "            scaler.scale(loss).backward()\n",
        "            # if epoch > 1:\n",
        "            #     awp.attack_backward(inputs,labels, criterion) \n",
        "            if clip_grad_norm > 0:\n",
        "                scaler.unscale_(optimizer)\n",
        "                torch.nn.utils.clip_grad_norm_(model.parameters(), clip_grad_norm)\n",
        "            scaler.step(optimizer)\n",
        "            scaler.update()\n",
        "            scheduler.step()\n",
        "\n",
        "            average_loss += loss.cpu().detach().numpy()\n",
        "            tk0.set_postfix(loss=average_loss / (batch_number + 1), stage=\"train\", epoch = epoch)\n",
        "\n",
        "\n",
        "    torch.save(model.state_dict(), f'drive/MyDrive/model_ozon_3_{fold}_best.pt')"
      ]
    },
    {
      "cell_type": "code",
      "execution_count": null,
      "metadata": {
        "colab": {
          "background_save": true
        },
        "id": "IZPtAp1pH-U-"
      },
      "outputs": [],
      "source": []
    },
    {
      "cell_type": "code",
      "execution_count": null,
      "metadata": {
        "colab": {
          "background_save": true
        },
        "id": "lX3yMxQgH-XZ"
      },
      "outputs": [],
      "source": []
    },
    {
      "cell_type": "code",
      "execution_count": null,
      "metadata": {
        "colab": {
          "background_save": true
        },
        "id": "b09irg5oy9br"
      },
      "outputs": [],
      "source": []
    },
    {
      "cell_type": "code",
      "execution_count": null,
      "metadata": {
        "colab": {
          "background_save": true
        },
        "id": "tWU3zGW5y9ea"
      },
      "outputs": [],
      "source": []
    }
  ],
  "metadata": {
    "accelerator": "GPU",
    "colab": {
      "machine_shape": "hm",
      "provenance": []
    },
    "gpuClass": "standard",
    "kernelspec": {
      "display_name": "Python 3",
      "name": "python3"
    },
    "language_info": {
      "name": "python"
    },
    "widgets": {
      "application/vnd.jupyter.widget-state+json": {
        "01aefe10c0e447f88c4d55a4aa7fe07a": {
          "model_module": "@jupyter-widgets/controls",
          "model_module_version": "1.5.0",
          "model_name": "DescriptionStyleModel",
          "state": {
            "_model_module": "@jupyter-widgets/controls",
            "_model_module_version": "1.5.0",
            "_model_name": "DescriptionStyleModel",
            "_view_count": null,
            "_view_module": "@jupyter-widgets/base",
            "_view_module_version": "1.2.0",
            "_view_name": "StyleView",
            "description_width": ""
          }
        },
        "02fb75b191f748148ddce8a603230b9d": {
          "model_module": "@jupyter-widgets/controls",
          "model_module_version": "1.5.0",
          "model_name": "DescriptionStyleModel",
          "state": {
            "_model_module": "@jupyter-widgets/controls",
            "_model_module_version": "1.5.0",
            "_model_name": "DescriptionStyleModel",
            "_view_count": null,
            "_view_module": "@jupyter-widgets/base",
            "_view_module_version": "1.2.0",
            "_view_name": "StyleView",
            "description_width": ""
          }
        },
        "04dd590fd2304686b7ae408142c9476d": {
          "model_module": "@jupyter-widgets/controls",
          "model_module_version": "1.5.0",
          "model_name": "HTMLModel",
          "state": {
            "_dom_classes": [],
            "_model_module": "@jupyter-widgets/controls",
            "_model_module_version": "1.5.0",
            "_model_name": "HTMLModel",
            "_view_count": null,
            "_view_module": "@jupyter-widgets/controls",
            "_view_module_version": "1.5.0",
            "_view_name": "HTMLView",
            "description": "",
            "description_tooltip": null,
            "layout": "IPY_MODEL_5978c17e01a941a4ab0ce3755ff4960e",
            "placeholder": "​",
            "style": "IPY_MODEL_2f9d29a67a8a47948c8a85ffaeedd0b9",
            "value": "100%"
          }
        },
        "050c411914344e229cf572bc63b5848c": {
          "model_module": "@jupyter-widgets/controls",
          "model_module_version": "1.5.0",
          "model_name": "DescriptionStyleModel",
          "state": {
            "_model_module": "@jupyter-widgets/controls",
            "_model_module_version": "1.5.0",
            "_model_name": "DescriptionStyleModel",
            "_view_count": null,
            "_view_module": "@jupyter-widgets/base",
            "_view_module_version": "1.2.0",
            "_view_name": "StyleView",
            "description_width": ""
          }
        },
        "05718bbd197c4bdb9d6d783b697c26d2": {
          "model_module": "@jupyter-widgets/controls",
          "model_module_version": "1.5.0",
          "model_name": "ProgressStyleModel",
          "state": {
            "_model_module": "@jupyter-widgets/controls",
            "_model_module_version": "1.5.0",
            "_model_name": "ProgressStyleModel",
            "_view_count": null,
            "_view_module": "@jupyter-widgets/base",
            "_view_module_version": "1.2.0",
            "_view_name": "StyleView",
            "bar_color": null,
            "description_width": ""
          }
        },
        "0931903a1aac4ed48481dbd2614c3a4d": {
          "model_module": "@jupyter-widgets/controls",
          "model_module_version": "1.5.0",
          "model_name": "HTMLModel",
          "state": {
            "_dom_classes": [],
            "_model_module": "@jupyter-widgets/controls",
            "_model_module_version": "1.5.0",
            "_model_name": "HTMLModel",
            "_view_count": null,
            "_view_module": "@jupyter-widgets/controls",
            "_view_module_version": "1.5.0",
            "_view_name": "HTMLView",
            "description": "",
            "description_tooltip": null,
            "layout": "IPY_MODEL_b5bf4a29e2de43d483bf80bf4cb91e4c",
            "placeholder": "​",
            "style": "IPY_MODEL_2f8283c85f394acfb0fee123e366e472",
            "value": " 10075/15327 [12:58&lt;06:39, 13.16it/s, epoch=2, loss=0.313, stage=train]"
          }
        },
        "0dc528c3b1784c7d891179e4f14f5511": {
          "model_module": "@jupyter-widgets/base",
          "model_module_version": "1.2.0",
          "model_name": "LayoutModel",
          "state": {
            "_model_module": "@jupyter-widgets/base",
            "_model_module_version": "1.2.0",
            "_model_name": "LayoutModel",
            "_view_count": null,
            "_view_module": "@jupyter-widgets/base",
            "_view_module_version": "1.2.0",
            "_view_name": "LayoutView",
            "align_content": null,
            "align_items": null,
            "align_self": null,
            "border": null,
            "bottom": null,
            "display": null,
            "flex": null,
            "flex_flow": null,
            "grid_area": null,
            "grid_auto_columns": null,
            "grid_auto_flow": null,
            "grid_auto_rows": null,
            "grid_column": null,
            "grid_gap": null,
            "grid_row": null,
            "grid_template_areas": null,
            "grid_template_columns": null,
            "grid_template_rows": null,
            "height": null,
            "justify_content": null,
            "justify_items": null,
            "left": null,
            "margin": null,
            "max_height": null,
            "max_width": null,
            "min_height": null,
            "min_width": null,
            "object_fit": null,
            "object_position": null,
            "order": null,
            "overflow": null,
            "overflow_x": null,
            "overflow_y": null,
            "padding": null,
            "right": null,
            "top": null,
            "visibility": null,
            "width": null
          }
        },
        "136cae01a3c94921994987c4fabf3ad1": {
          "model_module": "@jupyter-widgets/controls",
          "model_module_version": "1.5.0",
          "model_name": "ProgressStyleModel",
          "state": {
            "_model_module": "@jupyter-widgets/controls",
            "_model_module_version": "1.5.0",
            "_model_name": "ProgressStyleModel",
            "_view_count": null,
            "_view_module": "@jupyter-widgets/base",
            "_view_module_version": "1.2.0",
            "_view_name": "StyleView",
            "bar_color": null,
            "description_width": ""
          }
        },
        "2f8283c85f394acfb0fee123e366e472": {
          "model_module": "@jupyter-widgets/controls",
          "model_module_version": "1.5.0",
          "model_name": "DescriptionStyleModel",
          "state": {
            "_model_module": "@jupyter-widgets/controls",
            "_model_module_version": "1.5.0",
            "_model_name": "DescriptionStyleModel",
            "_view_count": null,
            "_view_module": "@jupyter-widgets/base",
            "_view_module_version": "1.2.0",
            "_view_name": "StyleView",
            "description_width": ""
          }
        },
        "2f9d29a67a8a47948c8a85ffaeedd0b9": {
          "model_module": "@jupyter-widgets/controls",
          "model_module_version": "1.5.0",
          "model_name": "DescriptionStyleModel",
          "state": {
            "_model_module": "@jupyter-widgets/controls",
            "_model_module_version": "1.5.0",
            "_model_name": "DescriptionStyleModel",
            "_view_count": null,
            "_view_module": "@jupyter-widgets/base",
            "_view_module_version": "1.2.0",
            "_view_name": "StyleView",
            "description_width": ""
          }
        },
        "357cd5c687a14b9c876cf9c725d885fa": {
          "model_module": "@jupyter-widgets/base",
          "model_module_version": "1.2.0",
          "model_name": "LayoutModel",
          "state": {
            "_model_module": "@jupyter-widgets/base",
            "_model_module_version": "1.2.0",
            "_model_name": "LayoutModel",
            "_view_count": null,
            "_view_module": "@jupyter-widgets/base",
            "_view_module_version": "1.2.0",
            "_view_name": "LayoutView",
            "align_content": null,
            "align_items": null,
            "align_self": null,
            "border": null,
            "bottom": null,
            "display": null,
            "flex": null,
            "flex_flow": null,
            "grid_area": null,
            "grid_auto_columns": null,
            "grid_auto_flow": null,
            "grid_auto_rows": null,
            "grid_column": null,
            "grid_gap": null,
            "grid_row": null,
            "grid_template_areas": null,
            "grid_template_columns": null,
            "grid_template_rows": null,
            "height": null,
            "justify_content": null,
            "justify_items": null,
            "left": null,
            "margin": null,
            "max_height": null,
            "max_width": null,
            "min_height": null,
            "min_width": null,
            "object_fit": null,
            "object_position": null,
            "order": null,
            "overflow": null,
            "overflow_x": null,
            "overflow_y": null,
            "padding": null,
            "right": null,
            "top": null,
            "visibility": null,
            "width": null
          }
        },
        "5978c17e01a941a4ab0ce3755ff4960e": {
          "model_module": "@jupyter-widgets/base",
          "model_module_version": "1.2.0",
          "model_name": "LayoutModel",
          "state": {
            "_model_module": "@jupyter-widgets/base",
            "_model_module_version": "1.2.0",
            "_model_name": "LayoutModel",
            "_view_count": null,
            "_view_module": "@jupyter-widgets/base",
            "_view_module_version": "1.2.0",
            "_view_name": "LayoutView",
            "align_content": null,
            "align_items": null,
            "align_self": null,
            "border": null,
            "bottom": null,
            "display": null,
            "flex": null,
            "flex_flow": null,
            "grid_area": null,
            "grid_auto_columns": null,
            "grid_auto_flow": null,
            "grid_auto_rows": null,
            "grid_column": null,
            "grid_gap": null,
            "grid_row": null,
            "grid_template_areas": null,
            "grid_template_columns": null,
            "grid_template_rows": null,
            "height": null,
            "justify_content": null,
            "justify_items": null,
            "left": null,
            "margin": null,
            "max_height": null,
            "max_width": null,
            "min_height": null,
            "min_width": null,
            "object_fit": null,
            "object_position": null,
            "order": null,
            "overflow": null,
            "overflow_x": null,
            "overflow_y": null,
            "padding": null,
            "right": null,
            "top": null,
            "visibility": null,
            "width": null
          }
        },
        "5f11b756b916446d908c85895d166943": {
          "model_module": "@jupyter-widgets/controls",
          "model_module_version": "1.5.0",
          "model_name": "HTMLModel",
          "state": {
            "_dom_classes": [],
            "_model_module": "@jupyter-widgets/controls",
            "_model_module_version": "1.5.0",
            "_model_name": "HTMLModel",
            "_view_count": null,
            "_view_module": "@jupyter-widgets/controls",
            "_view_module_version": "1.5.0",
            "_view_name": "HTMLView",
            "description": "",
            "description_tooltip": null,
            "layout": "IPY_MODEL_8b8006cc4ee34bf2946db9f69b22f5cf",
            "placeholder": "​",
            "style": "IPY_MODEL_fb7764040c5f4708b7beef1910d5596a",
            "value": "100%"
          }
        },
        "62218981bfe149a1aae34dfef55495e4": {
          "model_module": "@jupyter-widgets/controls",
          "model_module_version": "1.5.0",
          "model_name": "FloatProgressModel",
          "state": {
            "_dom_classes": [],
            "_model_module": "@jupyter-widgets/controls",
            "_model_module_version": "1.5.0",
            "_model_name": "FloatProgressModel",
            "_view_count": null,
            "_view_module": "@jupyter-widgets/controls",
            "_view_module_version": "1.5.0",
            "_view_name": "ProgressView",
            "bar_style": "success",
            "description": "",
            "description_tooltip": null,
            "layout": "IPY_MODEL_6b29793b563c443a979119ebf0fe9cd4",
            "max": 15327,
            "min": 0,
            "orientation": "horizontal",
            "style": "IPY_MODEL_d8b69b26ade64fb19b2e9ba2087dfce7",
            "value": 15327
          }
        },
        "6b29793b563c443a979119ebf0fe9cd4": {
          "model_module": "@jupyter-widgets/base",
          "model_module_version": "1.2.0",
          "model_name": "LayoutModel",
          "state": {
            "_model_module": "@jupyter-widgets/base",
            "_model_module_version": "1.2.0",
            "_model_name": "LayoutModel",
            "_view_count": null,
            "_view_module": "@jupyter-widgets/base",
            "_view_module_version": "1.2.0",
            "_view_name": "LayoutView",
            "align_content": null,
            "align_items": null,
            "align_self": null,
            "border": null,
            "bottom": null,
            "display": null,
            "flex": null,
            "flex_flow": null,
            "grid_area": null,
            "grid_auto_columns": null,
            "grid_auto_flow": null,
            "grid_auto_rows": null,
            "grid_column": null,
            "grid_gap": null,
            "grid_row": null,
            "grid_template_areas": null,
            "grid_template_columns": null,
            "grid_template_rows": null,
            "height": null,
            "justify_content": null,
            "justify_items": null,
            "left": null,
            "margin": null,
            "max_height": null,
            "max_width": null,
            "min_height": null,
            "min_width": null,
            "object_fit": null,
            "object_position": null,
            "order": null,
            "overflow": null,
            "overflow_x": null,
            "overflow_y": null,
            "padding": null,
            "right": null,
            "top": null,
            "visibility": null,
            "width": null
          }
        },
        "821b125dbfa247d495b7918d16c27348": {
          "model_module": "@jupyter-widgets/base",
          "model_module_version": "1.2.0",
          "model_name": "LayoutModel",
          "state": {
            "_model_module": "@jupyter-widgets/base",
            "_model_module_version": "1.2.0",
            "_model_name": "LayoutModel",
            "_view_count": null,
            "_view_module": "@jupyter-widgets/base",
            "_view_module_version": "1.2.0",
            "_view_name": "LayoutView",
            "align_content": null,
            "align_items": null,
            "align_self": null,
            "border": null,
            "bottom": null,
            "display": null,
            "flex": null,
            "flex_flow": null,
            "grid_area": null,
            "grid_auto_columns": null,
            "grid_auto_flow": null,
            "grid_auto_rows": null,
            "grid_column": null,
            "grid_gap": null,
            "grid_row": null,
            "grid_template_areas": null,
            "grid_template_columns": null,
            "grid_template_rows": null,
            "height": null,
            "justify_content": null,
            "justify_items": null,
            "left": null,
            "margin": null,
            "max_height": null,
            "max_width": null,
            "min_height": null,
            "min_width": null,
            "object_fit": null,
            "object_position": null,
            "order": null,
            "overflow": null,
            "overflow_x": null,
            "overflow_y": null,
            "padding": null,
            "right": null,
            "top": null,
            "visibility": null,
            "width": null
          }
        },
        "877461f99f184263ae68fefa69201f46": {
          "model_module": "@jupyter-widgets/controls",
          "model_module_version": "1.5.0",
          "model_name": "FloatProgressModel",
          "state": {
            "_dom_classes": [],
            "_model_module": "@jupyter-widgets/controls",
            "_model_module_version": "1.5.0",
            "_model_name": "FloatProgressModel",
            "_view_count": null,
            "_view_module": "@jupyter-widgets/controls",
            "_view_module_version": "1.5.0",
            "_view_name": "ProgressView",
            "bar_style": "",
            "description": "",
            "description_tooltip": null,
            "layout": "IPY_MODEL_9574f74ebded403fb5e35352df2c6384",
            "max": 15327,
            "min": 0,
            "orientation": "horizontal",
            "style": "IPY_MODEL_136cae01a3c94921994987c4fabf3ad1",
            "value": 10075
          }
        },
        "8b8006cc4ee34bf2946db9f69b22f5cf": {
          "model_module": "@jupyter-widgets/base",
          "model_module_version": "1.2.0",
          "model_name": "LayoutModel",
          "state": {
            "_model_module": "@jupyter-widgets/base",
            "_model_module_version": "1.2.0",
            "_model_name": "LayoutModel",
            "_view_count": null,
            "_view_module": "@jupyter-widgets/base",
            "_view_module_version": "1.2.0",
            "_view_name": "LayoutView",
            "align_content": null,
            "align_items": null,
            "align_self": null,
            "border": null,
            "bottom": null,
            "display": null,
            "flex": null,
            "flex_flow": null,
            "grid_area": null,
            "grid_auto_columns": null,
            "grid_auto_flow": null,
            "grid_auto_rows": null,
            "grid_column": null,
            "grid_gap": null,
            "grid_row": null,
            "grid_template_areas": null,
            "grid_template_columns": null,
            "grid_template_rows": null,
            "height": null,
            "justify_content": null,
            "justify_items": null,
            "left": null,
            "margin": null,
            "max_height": null,
            "max_width": null,
            "min_height": null,
            "min_width": null,
            "object_fit": null,
            "object_position": null,
            "order": null,
            "overflow": null,
            "overflow_x": null,
            "overflow_y": null,
            "padding": null,
            "right": null,
            "top": null,
            "visibility": null,
            "width": null
          }
        },
        "947a0407567448878bd69d766d3baa11": {
          "model_module": "@jupyter-widgets/base",
          "model_module_version": "1.2.0",
          "model_name": "LayoutModel",
          "state": {
            "_model_module": "@jupyter-widgets/base",
            "_model_module_version": "1.2.0",
            "_model_name": "LayoutModel",
            "_view_count": null,
            "_view_module": "@jupyter-widgets/base",
            "_view_module_version": "1.2.0",
            "_view_name": "LayoutView",
            "align_content": null,
            "align_items": null,
            "align_self": null,
            "border": null,
            "bottom": null,
            "display": null,
            "flex": null,
            "flex_flow": null,
            "grid_area": null,
            "grid_auto_columns": null,
            "grid_auto_flow": null,
            "grid_auto_rows": null,
            "grid_column": null,
            "grid_gap": null,
            "grid_row": null,
            "grid_template_areas": null,
            "grid_template_columns": null,
            "grid_template_rows": null,
            "height": null,
            "justify_content": null,
            "justify_items": null,
            "left": null,
            "margin": null,
            "max_height": null,
            "max_width": null,
            "min_height": null,
            "min_width": null,
            "object_fit": null,
            "object_position": null,
            "order": null,
            "overflow": null,
            "overflow_x": null,
            "overflow_y": null,
            "padding": null,
            "right": null,
            "top": null,
            "visibility": null,
            "width": null
          }
        },
        "9574f74ebded403fb5e35352df2c6384": {
          "model_module": "@jupyter-widgets/base",
          "model_module_version": "1.2.0",
          "model_name": "LayoutModel",
          "state": {
            "_model_module": "@jupyter-widgets/base",
            "_model_module_version": "1.2.0",
            "_model_name": "LayoutModel",
            "_view_count": null,
            "_view_module": "@jupyter-widgets/base",
            "_view_module_version": "1.2.0",
            "_view_name": "LayoutView",
            "align_content": null,
            "align_items": null,
            "align_self": null,
            "border": null,
            "bottom": null,
            "display": null,
            "flex": null,
            "flex_flow": null,
            "grid_area": null,
            "grid_auto_columns": null,
            "grid_auto_flow": null,
            "grid_auto_rows": null,
            "grid_column": null,
            "grid_gap": null,
            "grid_row": null,
            "grid_template_areas": null,
            "grid_template_columns": null,
            "grid_template_rows": null,
            "height": null,
            "justify_content": null,
            "justify_items": null,
            "left": null,
            "margin": null,
            "max_height": null,
            "max_width": null,
            "min_height": null,
            "min_width": null,
            "object_fit": null,
            "object_position": null,
            "order": null,
            "overflow": null,
            "overflow_x": null,
            "overflow_y": null,
            "padding": null,
            "right": null,
            "top": null,
            "visibility": null,
            "width": null
          }
        },
        "a023c71edd0344d1833de98ed237cdb5": {
          "model_module": "@jupyter-widgets/controls",
          "model_module_version": "1.5.0",
          "model_name": "HTMLModel",
          "state": {
            "_dom_classes": [],
            "_model_module": "@jupyter-widgets/controls",
            "_model_module_version": "1.5.0",
            "_model_name": "HTMLModel",
            "_view_count": null,
            "_view_module": "@jupyter-widgets/controls",
            "_view_module_version": "1.5.0",
            "_view_name": "HTMLView",
            "description": "",
            "description_tooltip": null,
            "layout": "IPY_MODEL_357cd5c687a14b9c876cf9c725d885fa",
            "placeholder": "​",
            "style": "IPY_MODEL_01aefe10c0e447f88c4d55a4aa7fe07a",
            "value": " 15327/15327 [19:48&lt;00:00, 13.18it/s, epoch=0, loss=0.39, stage=train]"
          }
        },
        "b5bf4a29e2de43d483bf80bf4cb91e4c": {
          "model_module": "@jupyter-widgets/base",
          "model_module_version": "1.2.0",
          "model_name": "LayoutModel",
          "state": {
            "_model_module": "@jupyter-widgets/base",
            "_model_module_version": "1.2.0",
            "_model_name": "LayoutModel",
            "_view_count": null,
            "_view_module": "@jupyter-widgets/base",
            "_view_module_version": "1.2.0",
            "_view_name": "LayoutView",
            "align_content": null,
            "align_items": null,
            "align_self": null,
            "border": null,
            "bottom": null,
            "display": null,
            "flex": null,
            "flex_flow": null,
            "grid_area": null,
            "grid_auto_columns": null,
            "grid_auto_flow": null,
            "grid_auto_rows": null,
            "grid_column": null,
            "grid_gap": null,
            "grid_row": null,
            "grid_template_areas": null,
            "grid_template_columns": null,
            "grid_template_rows": null,
            "height": null,
            "justify_content": null,
            "justify_items": null,
            "left": null,
            "margin": null,
            "max_height": null,
            "max_width": null,
            "min_height": null,
            "min_width": null,
            "object_fit": null,
            "object_position": null,
            "order": null,
            "overflow": null,
            "overflow_x": null,
            "overflow_y": null,
            "padding": null,
            "right": null,
            "top": null,
            "visibility": null,
            "width": null
          }
        },
        "b8b569c8ff4949b499280f0d9025ecee": {
          "model_module": "@jupyter-widgets/controls",
          "model_module_version": "1.5.0",
          "model_name": "HTMLModel",
          "state": {
            "_dom_classes": [],
            "_model_module": "@jupyter-widgets/controls",
            "_model_module_version": "1.5.0",
            "_model_name": "HTMLModel",
            "_view_count": null,
            "_view_module": "@jupyter-widgets/controls",
            "_view_module_version": "1.5.0",
            "_view_name": "HTMLView",
            "description": "",
            "description_tooltip": null,
            "layout": "IPY_MODEL_947a0407567448878bd69d766d3baa11",
            "placeholder": "​",
            "style": "IPY_MODEL_050c411914344e229cf572bc63b5848c",
            "value": " 15327/15327 [19:51&lt;00:00, 12.90it/s, epoch=1, loss=0.342, stage=train]"
          }
        },
        "b9896c5649154db68f98e873feefa161": {
          "model_module": "@jupyter-widgets/base",
          "model_module_version": "1.2.0",
          "model_name": "LayoutModel",
          "state": {
            "_model_module": "@jupyter-widgets/base",
            "_model_module_version": "1.2.0",
            "_model_name": "LayoutModel",
            "_view_count": null,
            "_view_module": "@jupyter-widgets/base",
            "_view_module_version": "1.2.0",
            "_view_name": "LayoutView",
            "align_content": null,
            "align_items": null,
            "align_self": null,
            "border": null,
            "bottom": null,
            "display": null,
            "flex": null,
            "flex_flow": null,
            "grid_area": null,
            "grid_auto_columns": null,
            "grid_auto_flow": null,
            "grid_auto_rows": null,
            "grid_column": null,
            "grid_gap": null,
            "grid_row": null,
            "grid_template_areas": null,
            "grid_template_columns": null,
            "grid_template_rows": null,
            "height": null,
            "justify_content": null,
            "justify_items": null,
            "left": null,
            "margin": null,
            "max_height": null,
            "max_width": null,
            "min_height": null,
            "min_width": null,
            "object_fit": null,
            "object_position": null,
            "order": null,
            "overflow": null,
            "overflow_x": null,
            "overflow_y": null,
            "padding": null,
            "right": null,
            "top": null,
            "visibility": null,
            "width": null
          }
        },
        "bff9a2ec726445f39d31d0d49aa64827": {
          "model_module": "@jupyter-widgets/controls",
          "model_module_version": "1.5.0",
          "model_name": "HBoxModel",
          "state": {
            "_dom_classes": [],
            "_model_module": "@jupyter-widgets/controls",
            "_model_module_version": "1.5.0",
            "_model_name": "HBoxModel",
            "_view_count": null,
            "_view_module": "@jupyter-widgets/controls",
            "_view_module_version": "1.5.0",
            "_view_name": "HBoxView",
            "box_style": "",
            "children": [
              "IPY_MODEL_04dd590fd2304686b7ae408142c9476d",
              "IPY_MODEL_62218981bfe149a1aae34dfef55495e4",
              "IPY_MODEL_b8b569c8ff4949b499280f0d9025ecee"
            ],
            "layout": "IPY_MODEL_d8464e4a75454c13b0ce4ea03fc25753"
          }
        },
        "caa1ad7b2a0b4bf2a746f0223fe02b0a": {
          "model_module": "@jupyter-widgets/controls",
          "model_module_version": "1.5.0",
          "model_name": "FloatProgressModel",
          "state": {
            "_dom_classes": [],
            "_model_module": "@jupyter-widgets/controls",
            "_model_module_version": "1.5.0",
            "_model_name": "FloatProgressModel",
            "_view_count": null,
            "_view_module": "@jupyter-widgets/controls",
            "_view_module_version": "1.5.0",
            "_view_name": "ProgressView",
            "bar_style": "success",
            "description": "",
            "description_tooltip": null,
            "layout": "IPY_MODEL_821b125dbfa247d495b7918d16c27348",
            "max": 15327,
            "min": 0,
            "orientation": "horizontal",
            "style": "IPY_MODEL_05718bbd197c4bdb9d6d783b697c26d2",
            "value": 15327
          }
        },
        "d8464e4a75454c13b0ce4ea03fc25753": {
          "model_module": "@jupyter-widgets/base",
          "model_module_version": "1.2.0",
          "model_name": "LayoutModel",
          "state": {
            "_model_module": "@jupyter-widgets/base",
            "_model_module_version": "1.2.0",
            "_model_name": "LayoutModel",
            "_view_count": null,
            "_view_module": "@jupyter-widgets/base",
            "_view_module_version": "1.2.0",
            "_view_name": "LayoutView",
            "align_content": null,
            "align_items": null,
            "align_self": null,
            "border": null,
            "bottom": null,
            "display": null,
            "flex": null,
            "flex_flow": null,
            "grid_area": null,
            "grid_auto_columns": null,
            "grid_auto_flow": null,
            "grid_auto_rows": null,
            "grid_column": null,
            "grid_gap": null,
            "grid_row": null,
            "grid_template_areas": null,
            "grid_template_columns": null,
            "grid_template_rows": null,
            "height": null,
            "justify_content": null,
            "justify_items": null,
            "left": null,
            "margin": null,
            "max_height": null,
            "max_width": null,
            "min_height": null,
            "min_width": null,
            "object_fit": null,
            "object_position": null,
            "order": null,
            "overflow": null,
            "overflow_x": null,
            "overflow_y": null,
            "padding": null,
            "right": null,
            "top": null,
            "visibility": null,
            "width": null
          }
        },
        "d85d0a4d2fe04ac18990facdfe17bbba": {
          "model_module": "@jupyter-widgets/controls",
          "model_module_version": "1.5.0",
          "model_name": "HTMLModel",
          "state": {
            "_dom_classes": [],
            "_model_module": "@jupyter-widgets/controls",
            "_model_module_version": "1.5.0",
            "_model_name": "HTMLModel",
            "_view_count": null,
            "_view_module": "@jupyter-widgets/controls",
            "_view_module_version": "1.5.0",
            "_view_name": "HTMLView",
            "description": "",
            "description_tooltip": null,
            "layout": "IPY_MODEL_e153ae1dfa4f4b849b3fe0a159eb8aa8",
            "placeholder": "​",
            "style": "IPY_MODEL_02fb75b191f748148ddce8a603230b9d",
            "value": " 66%"
          }
        },
        "d8b69b26ade64fb19b2e9ba2087dfce7": {
          "model_module": "@jupyter-widgets/controls",
          "model_module_version": "1.5.0",
          "model_name": "ProgressStyleModel",
          "state": {
            "_model_module": "@jupyter-widgets/controls",
            "_model_module_version": "1.5.0",
            "_model_name": "ProgressStyleModel",
            "_view_count": null,
            "_view_module": "@jupyter-widgets/base",
            "_view_module_version": "1.2.0",
            "_view_name": "StyleView",
            "bar_color": null,
            "description_width": ""
          }
        },
        "e153ae1dfa4f4b849b3fe0a159eb8aa8": {
          "model_module": "@jupyter-widgets/base",
          "model_module_version": "1.2.0",
          "model_name": "LayoutModel",
          "state": {
            "_model_module": "@jupyter-widgets/base",
            "_model_module_version": "1.2.0",
            "_model_name": "LayoutModel",
            "_view_count": null,
            "_view_module": "@jupyter-widgets/base",
            "_view_module_version": "1.2.0",
            "_view_name": "LayoutView",
            "align_content": null,
            "align_items": null,
            "align_self": null,
            "border": null,
            "bottom": null,
            "display": null,
            "flex": null,
            "flex_flow": null,
            "grid_area": null,
            "grid_auto_columns": null,
            "grid_auto_flow": null,
            "grid_auto_rows": null,
            "grid_column": null,
            "grid_gap": null,
            "grid_row": null,
            "grid_template_areas": null,
            "grid_template_columns": null,
            "grid_template_rows": null,
            "height": null,
            "justify_content": null,
            "justify_items": null,
            "left": null,
            "margin": null,
            "max_height": null,
            "max_width": null,
            "min_height": null,
            "min_width": null,
            "object_fit": null,
            "object_position": null,
            "order": null,
            "overflow": null,
            "overflow_x": null,
            "overflow_y": null,
            "padding": null,
            "right": null,
            "top": null,
            "visibility": null,
            "width": null
          }
        },
        "ee4381c3be52489d8c2d0b4e6b04a6b8": {
          "model_module": "@jupyter-widgets/controls",
          "model_module_version": "1.5.0",
          "model_name": "HBoxModel",
          "state": {
            "_dom_classes": [],
            "_model_module": "@jupyter-widgets/controls",
            "_model_module_version": "1.5.0",
            "_model_name": "HBoxModel",
            "_view_count": null,
            "_view_module": "@jupyter-widgets/controls",
            "_view_module_version": "1.5.0",
            "_view_name": "HBoxView",
            "box_style": "",
            "children": [
              "IPY_MODEL_5f11b756b916446d908c85895d166943",
              "IPY_MODEL_caa1ad7b2a0b4bf2a746f0223fe02b0a",
              "IPY_MODEL_a023c71edd0344d1833de98ed237cdb5"
            ],
            "layout": "IPY_MODEL_0dc528c3b1784c7d891179e4f14f5511"
          }
        },
        "fa808ed2342f4b5884018ccaf2f20a82": {
          "model_module": "@jupyter-widgets/controls",
          "model_module_version": "1.5.0",
          "model_name": "HBoxModel",
          "state": {
            "_dom_classes": [],
            "_model_module": "@jupyter-widgets/controls",
            "_model_module_version": "1.5.0",
            "_model_name": "HBoxModel",
            "_view_count": null,
            "_view_module": "@jupyter-widgets/controls",
            "_view_module_version": "1.5.0",
            "_view_name": "HBoxView",
            "box_style": "",
            "children": [
              "IPY_MODEL_d85d0a4d2fe04ac18990facdfe17bbba",
              "IPY_MODEL_877461f99f184263ae68fefa69201f46",
              "IPY_MODEL_0931903a1aac4ed48481dbd2614c3a4d"
            ],
            "layout": "IPY_MODEL_b9896c5649154db68f98e873feefa161"
          }
        },
        "fb7764040c5f4708b7beef1910d5596a": {
          "model_module": "@jupyter-widgets/controls",
          "model_module_version": "1.5.0",
          "model_name": "DescriptionStyleModel",
          "state": {
            "_model_module": "@jupyter-widgets/controls",
            "_model_module_version": "1.5.0",
            "_model_name": "DescriptionStyleModel",
            "_view_count": null,
            "_view_module": "@jupyter-widgets/base",
            "_view_module_version": "1.2.0",
            "_view_name": "StyleView",
            "description_width": ""
          }
        }
      }
    }
  },
  "nbformat": 4,
  "nbformat_minor": 0
}