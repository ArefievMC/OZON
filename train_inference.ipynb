{
  "cells": [
    {
      "cell_type": "code",
      "execution_count": 1,
      "metadata": {
        "id": "HW2kHZeJZDSq"
      },
      "outputs": [],
      "source": [
        "import os\n",
        "if 'ozom671games.zip' not in os.listdir():\n",
        "    from google.colab import drive\n",
        "    drive.mount('/content/drive')\n",
        "    !pip install transformers\n",
        "    !pip install sentencepiece\n",
        "    !pip install bitsandbytes\n",
        "    !cp drive/MyDrive/ozon/ozom671games.zip ozom671games.zip\n",
        "    !unzip ozom671games.zip\n",
        "    !pip install catboost"
      ]
    },
    {
      "cell_type": "code",
      "execution_count": 2,
      "metadata": {
        "id": "jTNvIMjEZXta"
      },
      "outputs": [],
      "source": [
        "import pandas as pd\n",
        "import json\n",
        "from tqdm.notebook import tqdm\n",
        "import numpy as np\n",
        "from scipy.spatial.distance import cosine, euclidean\n",
        "from sklearn.metrics import pairwise_distances\n",
        "from sklearn.model_selection import StratifiedKFold, GroupKFold\n",
        "import lightgbm as lgb\n",
        "from catboost import CatBoostClassifier, Pool\n",
        "import catboost"
      ]
    },
    {
      "cell_type": "code",
      "execution_count": 3,
      "metadata": {
        "id": "YGs6RWC2bOpB"
      },
      "outputs": [],
      "source": [
        "train = pd.read_parquet('train_data.parquet')\n",
        "target = pd.read_parquet('train_pairs.parquet')"
      ]
    },
    {
      "cell_type": "code",
      "execution_count": 4,
      "metadata": {
        "id": "1PF6b-Qd65p9"
      },
      "outputs": [],
      "source": [
        "ltr = len(target)"
      ]
    },
    {
      "cell_type": "code",
      "execution_count": 5,
      "metadata": {
        "id": "WRcUr9K3VkpJ"
      },
      "outputs": [],
      "source": [
        "test = pd.read_parquet('test_data.parquet')\n",
        "test_target = pd.read_parquet('test_pairs_wo_target.parquet')"
      ]
    },
    {
      "cell_type": "code",
      "execution_count": 6,
      "metadata": {
        "id": "IdAzo19KBfWK"
      },
      "outputs": [],
      "source": [
        "target = pd.concat([target, test_target]).reset_index(drop = True)"
      ]
    },
    {
      "cell_type": "code",
      "execution_count": 7,
      "metadata": {
        "id": "iGOnGueGZzNt"
      },
      "outputs": [],
      "source": [
        "train['characteristic_attributes_mapping'] = train['characteristic_attributes_mapping'].fillna('{}').apply(json.loads )\n",
        "train['categories'] = train['categories'].fillna('{}').apply(json.loads)\n",
        "\n",
        "test['characteristic_attributes_mapping'] = test['characteristic_attributes_mapping'].fillna('{}').apply(json.loads )\n",
        "test['categories'] = test['categories'].fillna('{}').apply(json.loads)"
      ]
    },
    {
      "cell_type": "code",
      "execution_count": 8,
      "metadata": {
        "id": "IkCMIWE06O6s"
      },
      "outputs": [],
      "source": [
        "data = pd.concat([train, test[~test.variantid.isin(train['variantid'].unique())] ])"
      ]
    },
    {
      "cell_type": "code",
      "execution_count": 9,
      "metadata": {
        "id": "mqQtrdo8Tmoz"
      },
      "outputs": [],
      "source": [
        "data = target.merge(data, right_on = 'variantid', left_on = 'variantid1', how = 'left').merge(\n",
        "    data, right_on = 'variantid', left_on = 'variantid2', how = 'left', suffixes=('_1', '_2'))"
      ]
    },
    {
      "cell_type": "code",
      "execution_count": 10,
      "metadata": {
        "colab": {
          "base_uri": "https://localhost:8080/",
          "height": 49,
          "referenced_widgets": [
            "9ba9e6fe0dce4f8aaba1217a39dafb64",
            "d13e2afa9db241f782a9b206464f395f",
            "f736fe7f545748fc99f093953efba4f5",
            "4e064fde257447b7b639840705ee6073",
            "41ac435cadf64f47b4f3c1a90e7b843a",
            "9ea4c432c4cf4c17a7731c6209c85485",
            "7099f422060c4cbd8253aa858fea9298",
            "b6897541416f4871bee5d8c0f3ca4b4c",
            "c1cad4129f954a30b83abf06ebc1bd48",
            "af0acdf641664578814258f1b1e3ed6b",
            "f258b2bcfcf74be4a27e549003e89937"
          ]
        },
        "id": "aGraQ5flehd9",
        "outputId": "7bfd7f52-9a6b-4c66-ffb1-19207ca6b161"
      },
      "outputs": [
        {
          "output_type": "display_data",
          "data": {
            "text/plain": [
              "  0%|          | 0/324624 [00:00<?, ?it/s]"
            ],
            "application/vnd.jupyter.widget-view+json": {
              "version_major": 2,
              "version_minor": 0,
              "model_id": "9ba9e6fe0dce4f8aaba1217a39dafb64"
            }
          },
          "metadata": {}
        }
      ],
      "source": [
        "main_pic_dist_cos = []\n",
        "main_pic_dist_euc = []\n",
        "for emb1, emb2 in tqdm(data[['main_pic_embeddings_resnet_v1_1', 'main_pic_embeddings_resnet_v1_2']].values):\n",
        "    if type(emb1) != np.ndarray or type(emb2) != np.ndarray:\n",
        "        main_pic_dist_cos += [-1]\n",
        "        main_pic_dist_euc += [-1]\n",
        "    else:\n",
        "        main_pic_dist_cos += [ cosine(emb1[0], emb2[0]) ]\n",
        "        main_pic_dist_euc += [ euclidean(emb1[0], emb2[0]) ]"
      ]
    },
    {
      "cell_type": "code",
      "execution_count": 34,
      "metadata": {
        "colab": {
          "base_uri": "https://localhost:8080/",
          "height": 49,
          "referenced_widgets": [
            "4711240c7e2149099177a4ef0554f6d3",
            "ce5f24429bb04fdbaaa3cb83712bf998",
            "2d5342e223d3463eb776700d0f6e68a7",
            "55d73cc82ed54c11b47a6c6ff065739d",
            "2ee814ab0cec4b7eb512085d1254f2e6",
            "057e50ea3a4a4b7394aab2d149c69b4c",
            "3231ec0ab53045239c02801095517f98",
            "0e9bdda5cae449659ecd8c5ce854584a",
            "c8d300de6b904b18a663b876e56d3d81",
            "8409961041c440a5b086ceb0aec3e083",
            "4a9f156a634d48c3bfd6e711320de35e"
          ]
        },
        "id": "PTtEQzGFk-fK",
        "outputId": "016f938c-80cc-4220-8a00-3fcfe226c66f"
      },
      "outputs": [
        {
          "output_type": "display_data",
          "data": {
            "text/plain": [
              "  0%|          | 0/324624 [00:00<?, ?it/s]"
            ],
            "application/vnd.jupyter.widget-view+json": {
              "version_major": 2,
              "version_minor": 0,
              "model_id": "4711240c7e2149099177a4ef0554f6d3"
            }
          },
          "metadata": {}
        }
      ],
      "source": [
        "metrics = ['cosine', 'euclidean']\n",
        "\n",
        "dict_pic_dist_cos = {m:[] for m in metrics}\n",
        "\n",
        "for emb1, emb2 in tqdm(data[['pic_embeddings_resnet_v1_1', 'pic_embeddings_resnet_v1_2']].values):\n",
        "    if type(emb1) != np.ndarray or type(emb2) != np.ndarray:\n",
        "        for metric in metrics:\n",
        "            dict_pic_dist_cos[metric] += [(np.zeros(4) - 1).tolist()]\n",
        "        continue\n",
        "    list_th = [0.1, 1]\n",
        "    emb1 = np.array([x for x in emb1])\n",
        "    emb2 = np.array([x for x in emb2])\n",
        "\n",
        "    for metric, th in zip(metrics, list_th):\n",
        "        dist = pairwise_distances(emb1, emb2, metric = metric)\n",
        "        dict_pic_dist_cos[metric] += [ [np.mean(dist), np.max(dist), np.min(dist), dist[dist <= th].shape[0]] ]"
      ]
    },
    {
      "cell_type": "code",
      "execution_count": 12,
      "metadata": {
        "colab": {
          "base_uri": "https://localhost:8080/",
          "height": 49,
          "referenced_widgets": [
            "82cc6ed13eba4642a638b3cdddd33a93",
            "8361dc8feb2c43ff98598264ead084f5",
            "ac7fd78b991d443096642d6c7d7471df",
            "de3c836f12fa46ebae2101d1e651289f",
            "d04ff134621e48f792e0140c2c4d299a",
            "ef4501b951054e5483bf7c3815a377dd",
            "31e2fd874ae84826b6c488508fcc27d7",
            "ae1875cd0ef44345a5561e391f023fc8",
            "54668f004d014fcba9e82994af6799b1",
            "6696a6c7843446198750c6388247a3c0",
            "9592485af99f4899944426cb66ffcfc1"
          ]
        },
        "id": "68GLojLK2n8y",
        "outputId": "926e6783-a21b-4eb8-cf43-83a4f0a44693"
      },
      "outputs": [
        {
          "output_type": "display_data",
          "data": {
            "text/plain": [
              "  0%|          | 0/324624 [00:00<?, ?it/s]"
            ],
            "application/vnd.jupyter.widget-view+json": {
              "version_major": 2,
              "version_minor": 0,
              "model_id": "82cc6ed13eba4642a638b3cdddd33a93"
            }
          },
          "metadata": {}
        }
      ],
      "source": [
        "name_bert_dist_cos = []\n",
        "name_bert_dist_euc = []\n",
        "for emb1, emb2 in tqdm(data[['name_bert_64_1', 'name_bert_64_2']].values):\n",
        "    if type(emb1) != np.ndarray or type(emb2) != np.ndarray:\n",
        "        name_bert_dist_cos += [-1]\n",
        "        name_bert_dist_euc += [-1]\n",
        "    else:\n",
        "        name_bert_dist_cos += [ cosine(emb1, emb2) ]\n",
        "        name_bert_dist_euc += [ euclidean(emb1, emb2) ]"
      ]
    },
    {
      "cell_type": "code",
      "execution_count": 35,
      "metadata": {
        "id": "SsSfBaKM3W3J"
      },
      "outputs": [],
      "source": [
        "data['main_pic_dist_cos'] = main_pic_dist_cos\n",
        "data['main_pic_dist_euc'] = main_pic_dist_euc\n",
        "\n",
        "data['name_bert_dist_cos'] = main_pic_dist_cos\n",
        "data['name_bert_dist_euc'] = main_pic_dist_euc\n",
        "\n",
        "for metric in metrics:\n",
        "    vals = np.array(dict_pic_dist_cos[metric])\n",
        "    for i, name in enumerate(['mean', 'max', 'min', 'th']):\n",
        "        data[f'{metric}_{name}'] = vals[:, i]"
      ]
    },
    {
      "cell_type": "code",
      "execution_count": 36,
      "metadata": {
        "id": "hK8tOWc9hNkp"
      },
      "outputs": [],
      "source": [
        "import pickle\n",
        "with open('drive/MyDrive/preds_train_final.pickle', 'rb') as f:\n",
        "    dict_predicts = pickle.load(f)"
      ]
    },
    {
      "cell_type": "code",
      "execution_count": 37,
      "metadata": {
        "id": "WiFiLnJE6xM1"
      },
      "outputs": [],
      "source": [
        "for keys in dict_predicts:\n",
        "    list_predict_0, list_predict_1, train_predict_0, train_predict_1 = dict_predicts[keys]\n",
        "    data[f'{keys}_pred'] = -1\n",
        "    data.loc[:ltr - 1, f'{keys}_pred'] = train_predict_0\n",
        "    data.loc[ltr:, f'{keys}_pred'] = np.mean(list_predict_0, 0)\n",
        "\n",
        "    data[f'{keys}_pred_1'] = -1\n",
        "    data.loc[:ltr - 1, f'{keys}_pred_1'] = train_predict_1\n",
        "    data.loc[ltr:, f'{keys}_pred_1'] = np.mean(list_predict_1, 0)"
      ]
    },
    {
      "cell_type": "code",
      "execution_count": 16,
      "metadata": {
        "id": "sRBQ2X_G_jLG"
      },
      "outputs": [],
      "source": [
        "data['cat_3'] = [x['3'] for x in data['categories_1']]"
      ]
    },
    {
      "cell_type": "code",
      "execution_count": 17,
      "metadata": {
        "id": "iCOT3aONGND_"
      },
      "outputs": [],
      "source": [
        "data['tmp'] = data['target'].astype('str') + '_' + data['cat_3']"
      ]
    },
    {
      "cell_type": "code",
      "execution_count": 18,
      "metadata": {
        "colab": {
          "base_uri": "https://localhost:8080/"
        },
        "id": "_1Fko9rEGILl",
        "outputId": "4c4057c3-a4b9-46ac-86d4-e94a7308f6f3"
      },
      "outputs": [
        {
          "output_type": "stream",
          "name": "stderr",
          "text": [
            "/usr/local/lib/python3.10/dist-packages/sklearn/model_selection/_split.py:700: UserWarning: The least populated class in y has only 1 members, which is less than n_splits=5.\n",
            "  warnings.warn(\n"
          ]
        }
      ],
      "source": [
        "def standart_split(data, target, n_splits = 5):\n",
        "    split_list = []\n",
        "    kf = StratifiedKFold(n_splits = n_splits, shuffle = True, random_state = 228)\n",
        "    for train_index, test_index in kf.split(data.loc[:ltr-1,:], data['tmp'][:ltr]) :\n",
        "        split_list += [(train_index, test_index)]\n",
        "    return split_list\n",
        "\n",
        "split_list = standart_split(data, 'target')"
      ]
    },
    {
      "cell_type": "code",
      "execution_count": 19,
      "metadata": {
        "id": "diyc3Sr9Ar1D"
      },
      "outputs": [],
      "source": [
        "inter_cat_1 = []\n",
        "inter_cat_2 = []\n",
        "\n",
        "for cat1, cat2 in data[['color_parsed_1', 'color_parsed_2']].values:\n",
        "    if type(cat1) == np.ndarray and type(cat2) == np.ndarray:\n",
        "        intersec = set(cat1) & set(cat2)\n",
        "        inter_cat_1 += [len(intersec) - len(set(cat1))]\n",
        "        inter_cat_2 += [len(intersec) - len(set(cat2))]\n",
        "    else:\n",
        "        inter_cat_1 += [-1]\n",
        "        inter_cat_2 += [-1]       "
      ]
    },
    {
      "cell_type": "code",
      "execution_count": 20,
      "metadata": {
        "id": "oswVJo9dEG9g"
      },
      "outputs": [],
      "source": [
        "data['inter_cat_1'] = inter_cat_1\n",
        "data['inter_cat_2'] = inter_cat_2"
      ]
    },
    {
      "cell_type": "code",
      "execution_count": 46,
      "metadata": {
        "id": "N6VRKJTzxmkC"
      },
      "outputs": [],
      "source": [
        "data['full_sum'] = data[['model_ozon_3_fold_pred',\n",
        " 'model_ozon_3_fold_pred_1',\n",
        " 'model_ozon_5_fold_2_pred',\n",
        " 'model_ozon_5_fold_2_pred_1',\n",
        " 'model_ozon_4_fold_pred',\n",
        " 'model_ozon_4_fold_pred_1',\n",
        " 'model_ozon_5_fold_3_pred',\n",
        " 'model_ozon_5_fold_3_pred_1',\n",
        " 'model_ozon_9_fold_pred',\n",
        " 'model_ozon_9_fold_pred_1', \n",
        " 'model_ozon_8_fold_pred',\n",
        " 'model_ozon_8_fold_pred_1',\n",
        " 'model_ozon_7_fold_pred',\n",
        " 'model_ozon_7_fold_pred_1'\n",
        " ]].mean(1)"
      ]
    },
    {
      "cell_type": "code",
      "source": [
        "data['full_sum_1'] = data[[\n",
        " 'model_ozon_5_fold_2_pred',\n",
        " 'model_ozon_5_fold_2_pred_1',\n",
        " 'model_ozon_4_fold_pred',\n",
        " 'model_ozon_4_fold_pred_1',\n",
        " 'model_ozon_9_fold_pred',\n",
        " 'model_ozon_9_fold_pred_1', \n",
        " 'model_ozon_8_fold_pred',\n",
        " 'model_ozon_8_fold_pred_1',\n",
        " 'model_ozon_7_fold_pred',\n",
        " 'model_ozon_7_fold_pred_1'\n",
        " ]].mean(1)"
      ],
      "metadata": {
        "id": "tQWPbwqAM9pB"
      },
      "execution_count": 47,
      "outputs": []
    },
    {
      "cell_type": "code",
      "source": [
        "from itertools import islice\n",
        "\n",
        "def is_sublist(source, target):\n",
        "    slen = len(source)\n",
        "    return any(all(item1 == item2 for (item1, item2) in zip(source, islice(target, i, i+slen))) for i in range(len(target) - slen + 1))\n",
        "\n",
        "def long_substr_by_word(data):\n",
        "    subseq = []\n",
        "    data_seqs = [s.split(' ') for s in data]\n",
        "    if len(data_seqs) > 1 and len(data_seqs[0]) > 0:\n",
        "        for i in range(len(data_seqs[0])):\n",
        "            for j in range(len(data_seqs[0])-i+1):\n",
        "                if j > len(subseq) and all(is_sublist(data_seqs[0][i:i+j], x) for x in data_seqs):\n",
        "                    subseq = data_seqs[0][i:i+j]\n",
        "    return ' '.join(subseq)\n",
        "\n",
        "list_ls = []\n",
        "for w1,  w2 in tqdm(data[['name_1', 'name_2']].values):\n",
        "    list_ls += [ long_substr_by_word([w1, w2]) ]\n",
        "\n",
        "data['list_ls'] = list_ls\n",
        "\n",
        "data['l1'] = [len(x[0].split()) / len(x[1].split()) for x in data[['list_ls', 'name_1']].values]\n",
        "data['l2'] = [len(x[0].split()) / len(x[1].split()) for x in data[['list_ls', 'name_2']].values]\n",
        "\n",
        "data['l3'] = [len(x[0].split()) - len(x[1].split()) for x in data[['list_ls', 'name_1']].values]\n",
        "data['l4'] = [len(x[0].split()) - len(x[1].split()) for x in data[['list_ls', 'name_2']].values]\n",
        "data['l5'] = [len( x[0].split()) for x in data[['list_ls', 'name_2']].values]"
      ],
      "metadata": {
        "colab": {
          "base_uri": "https://localhost:8080/",
          "height": 49,
          "referenced_widgets": [
            "8413d820c13640c4b07727e3d36a0260",
            "c41fe88740cd40d894c2ac73be1e4497",
            "62f51640a4294a97ae746484587d35f4",
            "f56125fbe5cb4dfeaa77ce264dc91bc7",
            "a6c525cb496243a0bd6e6d1ef25aad6c",
            "ee6277e629364535a79bd6d4c5815bb8",
            "01fe982ffe8a485c98324ede0f000dab",
            "8de89e3ea43f4023b3d21f7ba65c406f",
            "4d2400b7be1840cd8f8afda60c6ad476",
            "0a46cbdcdb01408bae75ce407e9f8afa",
            "25caf5709ecf45369ba19d350311614a"
          ]
        },
        "id": "YhjsFR7P-d-z",
        "outputId": "82868504-2ace-48a7-fd0d-f545ff8338eb"
      },
      "execution_count": 22,
      "outputs": [
        {
          "output_type": "display_data",
          "data": {
            "text/plain": [
              "  0%|          | 0/324624 [00:00<?, ?it/s]"
            ],
            "application/vnd.jupyter.widget-view+json": {
              "version_major": 2,
              "version_minor": 0,
              "model_id": "8413d820c13640c4b07727e3d36a0260"
            }
          },
          "metadata": {}
        }
      ]
    },
    {
      "cell_type": "code",
      "execution_count": 23,
      "metadata": {
        "id": "VbioOQbJxm-p"
      },
      "outputs": [],
      "source": [
        "vc = data.loc[ltr:, 'cat_3'].value_counts().head(25).index\n",
        "data['cat_30'] = data['cat_3']\n",
        "data.loc[~data['cat_3'].isin(vc), 'cat_30'] = 'rest'"
      ]
    },
    {
      "cell_type": "code",
      "execution_count": 48,
      "metadata": {
        "colab": {
          "base_uri": "https://localhost:8080/"
        },
        "id": "EUEw8pTr_rNV",
        "outputId": "be923b52-8323-4fd6-85c8-061870ce87ff"
      },
      "outputs": [
        {
          "output_type": "execute_result",
          "data": {
            "text/plain": [
              "['main_pic_dist_cos',\n",
              " 'main_pic_dist_euc',\n",
              " 'name_bert_dist_cos',\n",
              " 'name_bert_dist_euc',\n",
              " 'cosine_mean',\n",
              " 'cosine_max',\n",
              " 'cosine_min',\n",
              " 'cosine_th',\n",
              " 'euclidean_mean',\n",
              " 'euclidean_max',\n",
              " 'euclidean_min',\n",
              " 'euclidean_th',\n",
              " 'model_ozon_3_fold_pred',\n",
              " 'model_ozon_3_fold_pred_1',\n",
              " 'model_ozon_4_fold_pred',\n",
              " 'model_ozon_4_fold_pred_1',\n",
              " 'model_ozon_5_fold_2_pred',\n",
              " 'model_ozon_5_fold_2_pred_1',\n",
              " 'model_ozon_5_fold_3_pred',\n",
              " 'model_ozon_5_fold_3_pred_1',\n",
              " 'model_ozon_7_fold_pred',\n",
              " 'model_ozon_7_fold_pred_1',\n",
              " 'model_ozon_8_fold_pred',\n",
              " 'model_ozon_8_fold_pred_1',\n",
              " 'model_ozon_9_fold_pred',\n",
              " 'model_ozon_9_fold_pred_1',\n",
              " 'inter_cat_1',\n",
              " 'inter_cat_2',\n",
              " 'full_sum',\n",
              " 'l1',\n",
              " 'l2',\n",
              " 'l3',\n",
              " 'l4',\n",
              " 'l5',\n",
              " 'cat_30',\n",
              " 'full_sum_1']"
            ]
          },
          "metadata": {},
          "execution_count": 48
        }
      ],
      "source": [
        "drop_cols = ['target', 'variantid1', 'variantid2', 'variantid_1', 'name_1',\n",
        "       'categories_1', 'color_parsed_1', 'pic_embeddings_resnet_v1_1',\n",
        "       'main_pic_embeddings_resnet_v1_1', 'name_bert_64_1',\n",
        "       'characteristic_attributes_mapping_1', 'variantid_2', 'name_2',\n",
        "       'categories_2', 'color_parsed_2', 'pic_embeddings_resnet_v1_2',\n",
        "       'main_pic_embeddings_resnet_v1_2', 'name_bert_64_2', \n",
        "       'new_target', 'len_2', 'tmp', 'cat_3',  'type','len_1', 'list_ls', 'full_std',\n",
        "       'characteristic_attributes_mapping_2', 'cat_3_check', 'cat3_grouped']\n",
        "train_cols = [x for x in data.columns if x not in drop_cols]\n",
        "\n",
        "train_cols"
      ]
    },
    {
      "cell_type": "code",
      "execution_count": 41,
      "metadata": {
        "id": "gj6cNqIIJo5T"
      },
      "outputs": [],
      "source": [
        "params_cat = {\n",
        "    'loss_function' :'Logloss', \n",
        "     'max_depth' : 6, \n",
        "    'eval_metric' :'AUC', \n",
        "    'learning_rate' : 0.05, \n",
        "    'grow_policy' : 'SymmetricTree',\n",
        "    'l2_leaf_reg' : 100, \n",
        "    'random_strength' : 1,\n",
        "    'random_state' : 42 ,\n",
        "}"
      ]
    },
    {
      "cell_type": "code",
      "source": [
        "bst_list = []\n",
        "score_list = []\n",
        "preds = []\n",
        "preds_train1 = np.zeros(len(data) - len(test_target))\n",
        "for i , (train_index, test_index) in enumerate(split_list):\n",
        "    pool_train = Pool(data.loc[train_index, train_cols], label= data.loc[train_index, 'target'], cat_features = ['cat_30'])\n",
        "    pool_eval = Pool(data.loc[test_index, train_cols], label= data.loc[test_index, 'target'], cat_features = ['cat_30'])\n",
        "    bst = catboost.train(pool_train, params_cat, eval_set = pool_eval, iterations = 1300, early_stopping_rounds = 250, verbose = 100)\n",
        "    score_list += [bst.get_best_score()['validation']['AUC']]\n",
        "    preds_train1[test_index] = bst.predict(data.loc[test_index, train_cols].values) \n",
        "    # preds += [bst.predict(test[train_cols].values)]\n",
        "    bst_list += [bst]"
      ],
      "metadata": {
        "colab": {
          "base_uri": "https://localhost:8080/"
        },
        "id": "E8qbgdWmR5dE",
        "outputId": "7f5a9e41-b9b2-4feb-dc12-adf328ec82b8"
      },
      "execution_count": 49,
      "outputs": [
        {
          "output_type": "stream",
          "name": "stdout",
          "text": [
            "0:\ttest: 0.9206331\tbest: 0.9206331 (0)\ttotal: 115ms\tremaining: 2m 29s\n",
            "100:\ttest: 0.9321310\tbest: 0.9321310 (100)\ttotal: 9.31s\tremaining: 1m 50s\n",
            "200:\ttest: 0.9324707\tbest: 0.9324707 (200)\ttotal: 17.7s\tremaining: 1m 36s\n",
            "300:\ttest: 0.9326071\tbest: 0.9326079 (299)\ttotal: 26s\tremaining: 1m 26s\n",
            "400:\ttest: 0.9326186\tbest: 0.9326202 (362)\ttotal: 33.9s\tremaining: 1m 16s\n",
            "500:\ttest: 0.9326805\tbest: 0.9326805 (500)\ttotal: 42.1s\tremaining: 1m 7s\n",
            "600:\ttest: 0.9327150\tbest: 0.9327177 (586)\ttotal: 50.6s\tremaining: 58.8s\n",
            "700:\ttest: 0.9327400\tbest: 0.9327447 (682)\ttotal: 58.4s\tremaining: 49.9s\n",
            "800:\ttest: 0.9327442\tbest: 0.9327516 (761)\ttotal: 1m 6s\tremaining: 41.3s\n",
            "900:\ttest: 0.9327636\tbest: 0.9327651 (891)\ttotal: 1m 13s\tremaining: 32.7s\n",
            "1000:\ttest: 0.9327744\tbest: 0.9327744 (1000)\ttotal: 1m 21s\tremaining: 24.3s\n",
            "1100:\ttest: 0.9327945\tbest: 0.9327945 (1100)\ttotal: 1m 28s\tremaining: 16.1s\n",
            "1200:\ttest: 0.9327944\tbest: 0.9327995 (1161)\ttotal: 1m 36s\tremaining: 7.97s\n",
            "1299:\ttest: 0.9328284\tbest: 0.9328308 (1282)\ttotal: 1m 44s\tremaining: 0us\n",
            "\n",
            "bestTest = 0.9328308428\n",
            "bestIteration = 1282\n",
            "\n",
            "Shrink model to first 1283 iterations.\n",
            "0:\ttest: 0.9208701\tbest: 0.9208701 (0)\ttotal: 88.8ms\tremaining: 1m 55s\n",
            "100:\ttest: 0.9319095\tbest: 0.9319095 (100)\ttotal: 9.14s\tremaining: 1m 48s\n",
            "200:\ttest: 0.9322855\tbest: 0.9322871 (199)\ttotal: 17.3s\tremaining: 1m 34s\n",
            "300:\ttest: 0.9324023\tbest: 0.9324023 (300)\ttotal: 25.5s\tremaining: 1m 24s\n",
            "400:\ttest: 0.9324322\tbest: 0.9324329 (386)\ttotal: 32.1s\tremaining: 1m 11s\n",
            "500:\ttest: 0.9324442\tbest: 0.9324442 (500)\ttotal: 39s\tremaining: 1m 2s\n",
            "600:\ttest: 0.9324576\tbest: 0.9324577 (599)\ttotal: 45.5s\tremaining: 52.9s\n",
            "700:\ttest: 0.9324861\tbest: 0.9324861 (700)\ttotal: 52.6s\tremaining: 44.9s\n",
            "800:\ttest: 0.9325229\tbest: 0.9325239 (796)\ttotal: 59.8s\tremaining: 37.2s\n",
            "900:\ttest: 0.9325499\tbest: 0.9325499 (899)\ttotal: 1m 7s\tremaining: 29.8s\n",
            "1000:\ttest: 0.9325531\tbest: 0.9325577 (973)\ttotal: 1m 14s\tremaining: 22.2s\n",
            "1100:\ttest: 0.9325717\tbest: 0.9325740 (1085)\ttotal: 1m 21s\tremaining: 14.8s\n",
            "1200:\ttest: 0.9325755\tbest: 0.9325765 (1178)\ttotal: 1m 29s\tremaining: 7.34s\n",
            "1299:\ttest: 0.9325677\tbest: 0.9325765 (1178)\ttotal: 1m 36s\tremaining: 0us\n",
            "\n",
            "bestTest = 0.9325765493\n",
            "bestIteration = 1178\n",
            "\n",
            "Shrink model to first 1179 iterations.\n",
            "0:\ttest: 0.9177437\tbest: 0.9177437 (0)\ttotal: 97.6ms\tremaining: 2m 6s\n",
            "100:\ttest: 0.9325136\tbest: 0.9325136 (100)\ttotal: 8.4s\tremaining: 1m 39s\n",
            "200:\ttest: 0.9328061\tbest: 0.9328061 (200)\ttotal: 17s\tremaining: 1m 33s\n",
            "300:\ttest: 0.9328632\tbest: 0.9328632 (300)\ttotal: 24.9s\tremaining: 1m 22s\n",
            "400:\ttest: 0.9329056\tbest: 0.9329056 (400)\ttotal: 32.7s\tremaining: 1m 13s\n",
            "500:\ttest: 0.9329442\tbest: 0.9329448 (498)\ttotal: 39.8s\tremaining: 1m 3s\n",
            "600:\ttest: 0.9329517\tbest: 0.9329517 (600)\ttotal: 48.1s\tremaining: 55.9s\n",
            "700:\ttest: 0.9329786\tbest: 0.9329794 (697)\ttotal: 55.5s\tremaining: 47.4s\n",
            "800:\ttest: 0.9330034\tbest: 0.9330055 (796)\ttotal: 1m 3s\tremaining: 39.6s\n",
            "900:\ttest: 0.9330174\tbest: 0.9330185 (892)\ttotal: 1m 11s\tremaining: 31.5s\n",
            "1000:\ttest: 0.9330315\tbest: 0.9330315 (1000)\ttotal: 1m 19s\tremaining: 23.7s\n",
            "1100:\ttest: 0.9330268\tbest: 0.9330325 (1003)\ttotal: 1m 27s\tremaining: 15.8s\n",
            "1200:\ttest: 0.9330183\tbest: 0.9330365 (1116)\ttotal: 1m 35s\tremaining: 7.86s\n",
            "1299:\ttest: 0.9330098\tbest: 0.9330365 (1116)\ttotal: 1m 43s\tremaining: 0us\n",
            "\n",
            "bestTest = 0.9330364589\n",
            "bestIteration = 1116\n",
            "\n",
            "Shrink model to first 1117 iterations.\n",
            "0:\ttest: 0.9232701\tbest: 0.9232701 (0)\ttotal: 103ms\tremaining: 2m 13s\n",
            "100:\ttest: 0.9330366\tbest: 0.9330366 (100)\ttotal: 8.75s\tremaining: 1m 43s\n",
            "200:\ttest: 0.9333940\tbest: 0.9333953 (196)\ttotal: 17.5s\tremaining: 1m 35s\n",
            "300:\ttest: 0.9334892\tbest: 0.9334892 (300)\ttotal: 25.5s\tremaining: 1m 24s\n",
            "400:\ttest: 0.9335114\tbest: 0.9335127 (335)\ttotal: 33.4s\tremaining: 1m 14s\n",
            "500:\ttest: 0.9335246\tbest: 0.9335258 (496)\ttotal: 40.5s\tremaining: 1m 4s\n",
            "600:\ttest: 0.9335287\tbest: 0.9335312 (549)\ttotal: 47.8s\tremaining: 55.6s\n",
            "700:\ttest: 0.9335509\tbest: 0.9335513 (698)\ttotal: 54.9s\tremaining: 46.9s\n",
            "800:\ttest: 0.9335714\tbest: 0.9335733 (798)\ttotal: 1m 2s\tremaining: 39s\n",
            "900:\ttest: 0.9335850\tbest: 0.9335894 (864)\ttotal: 1m 10s\tremaining: 31.1s\n",
            "1000:\ttest: 0.9335913\tbest: 0.9336007 (937)\ttotal: 1m 21s\tremaining: 24.4s\n",
            "1100:\ttest: 0.9336196\tbest: 0.9336196 (1100)\ttotal: 1m 29s\tremaining: 16.1s\n",
            "1200:\ttest: 0.9336195\tbest: 0.9336201 (1198)\ttotal: 1m 37s\tremaining: 8s\n",
            "1299:\ttest: 0.9336256\tbest: 0.9336266 (1297)\ttotal: 1m 44s\tremaining: 0us\n",
            "\n",
            "bestTest = 0.9336266474\n",
            "bestIteration = 1297\n",
            "\n",
            "Shrink model to first 1298 iterations.\n",
            "0:\ttest: 0.9166064\tbest: 0.9166064 (0)\ttotal: 105ms\tremaining: 2m 16s\n",
            "100:\ttest: 0.9310791\tbest: 0.9310791 (100)\ttotal: 9.12s\tremaining: 1m 48s\n",
            "200:\ttest: 0.9313717\tbest: 0.9313717 (200)\ttotal: 17.7s\tremaining: 1m 36s\n",
            "300:\ttest: 0.9314795\tbest: 0.9314796 (299)\ttotal: 25.8s\tremaining: 1m 25s\n",
            "400:\ttest: 0.9315093\tbest: 0.9315094 (399)\ttotal: 32.9s\tremaining: 1m 13s\n",
            "500:\ttest: 0.9315305\tbest: 0.9315324 (490)\ttotal: 40.2s\tremaining: 1m 4s\n",
            "600:\ttest: 0.9315635\tbest: 0.9315635 (599)\ttotal: 47.6s\tremaining: 55.4s\n",
            "700:\ttest: 0.9315952\tbest: 0.9315952 (700)\ttotal: 55.9s\tremaining: 47.8s\n",
            "800:\ttest: 0.9316085\tbest: 0.9316116 (794)\ttotal: 1m 3s\tremaining: 39.8s\n",
            "900:\ttest: 0.9316076\tbest: 0.9316116 (794)\ttotal: 1m 12s\tremaining: 31.9s\n",
            "1000:\ttest: 0.9316236\tbest: 0.9316270 (970)\ttotal: 1m 20s\tremaining: 23.9s\n",
            "1100:\ttest: 0.9316551\tbest: 0.9316560 (1084)\ttotal: 1m 27s\tremaining: 15.8s\n",
            "1200:\ttest: 0.9316855\tbest: 0.9316858 (1198)\ttotal: 1m 35s\tremaining: 7.88s\n",
            "1299:\ttest: 0.9317003\tbest: 0.9317004 (1298)\ttotal: 1m 43s\tremaining: 0us\n",
            "\n",
            "bestTest = 0.931700431\n",
            "bestIteration = 1298\n",
            "\n",
            "Shrink model to first 1299 iterations.\n"
          ]
        }
      ]
    },
    {
      "cell_type": "code",
      "execution_count": 50,
      "metadata": {
        "id": "N3X_OzknBkCH"
      },
      "outputs": [],
      "source": [
        "preds = []\n",
        "for i , (train_index, test_index) in enumerate(split_list):\n",
        "    preds += [bst_list[i].predict(data.loc[ltr:, train_cols].values, prediction_type  = 'Probability')[:, 1] ]"
      ]
    },
    {
      "cell_type": "code",
      "execution_count": 52,
      "metadata": {
        "id": "qWPbwhch_o75"
      },
      "outputs": [],
      "source": [
        "from scipy.stats import rankdata\n",
        "\n",
        "ss = pd.read_csv('submission_example.csv')\n",
        "test_target['target'] =  np.mean([x for x in preds], 0) \n",
        "# tmp = test_target[(test_target['variantid1'].astype('str') + '_' + test_target['variantid2'].astype('str')).isin(w)]\n",
        "ss = ss[['variantid1', 'variantid2']].merge(test_target, how = 'left')\n",
        "ss[['variantid1', 'variantid2', 'target']].to_csv('sub_final_total.csv', index = None)"
      ]
    },
    {
      "cell_type": "code",
      "source": [],
      "metadata": {
        "id": "eUM__PwGUFOb"
      },
      "execution_count": null,
      "outputs": []
    }
  ],
  "metadata": {
    "colab": {
      "machine_shape": "hm",
      "provenance": []
    },
    "gpuClass": "standard",
    "kernelspec": {
      "display_name": "Python 3",
      "name": "python3"
    },
    "language_info": {
      "name": "python"
    },
    "widgets": {
      "application/vnd.jupyter.widget-state+json": {
        "9ba9e6fe0dce4f8aaba1217a39dafb64": {
          "model_module": "@jupyter-widgets/controls",
          "model_name": "HBoxModel",
          "model_module_version": "1.5.0",
          "state": {
            "_dom_classes": [],
            "_model_module": "@jupyter-widgets/controls",
            "_model_module_version": "1.5.0",
            "_model_name": "HBoxModel",
            "_view_count": null,
            "_view_module": "@jupyter-widgets/controls",
            "_view_module_version": "1.5.0",
            "_view_name": "HBoxView",
            "box_style": "",
            "children": [
              "IPY_MODEL_d13e2afa9db241f782a9b206464f395f",
              "IPY_MODEL_f736fe7f545748fc99f093953efba4f5",
              "IPY_MODEL_4e064fde257447b7b639840705ee6073"
            ],
            "layout": "IPY_MODEL_41ac435cadf64f47b4f3c1a90e7b843a"
          }
        },
        "d13e2afa9db241f782a9b206464f395f": {
          "model_module": "@jupyter-widgets/controls",
          "model_name": "HTMLModel",
          "model_module_version": "1.5.0",
          "state": {
            "_dom_classes": [],
            "_model_module": "@jupyter-widgets/controls",
            "_model_module_version": "1.5.0",
            "_model_name": "HTMLModel",
            "_view_count": null,
            "_view_module": "@jupyter-widgets/controls",
            "_view_module_version": "1.5.0",
            "_view_name": "HTMLView",
            "description": "",
            "description_tooltip": null,
            "layout": "IPY_MODEL_9ea4c432c4cf4c17a7731c6209c85485",
            "placeholder": "​",
            "style": "IPY_MODEL_7099f422060c4cbd8253aa858fea9298",
            "value": "100%"
          }
        },
        "f736fe7f545748fc99f093953efba4f5": {
          "model_module": "@jupyter-widgets/controls",
          "model_name": "FloatProgressModel",
          "model_module_version": "1.5.0",
          "state": {
            "_dom_classes": [],
            "_model_module": "@jupyter-widgets/controls",
            "_model_module_version": "1.5.0",
            "_model_name": "FloatProgressModel",
            "_view_count": null,
            "_view_module": "@jupyter-widgets/controls",
            "_view_module_version": "1.5.0",
            "_view_name": "ProgressView",
            "bar_style": "success",
            "description": "",
            "description_tooltip": null,
            "layout": "IPY_MODEL_b6897541416f4871bee5d8c0f3ca4b4c",
            "max": 324624,
            "min": 0,
            "orientation": "horizontal",
            "style": "IPY_MODEL_c1cad4129f954a30b83abf06ebc1bd48",
            "value": 324624
          }
        },
        "4e064fde257447b7b639840705ee6073": {
          "model_module": "@jupyter-widgets/controls",
          "model_name": "HTMLModel",
          "model_module_version": "1.5.0",
          "state": {
            "_dom_classes": [],
            "_model_module": "@jupyter-widgets/controls",
            "_model_module_version": "1.5.0",
            "_model_name": "HTMLModel",
            "_view_count": null,
            "_view_module": "@jupyter-widgets/controls",
            "_view_module_version": "1.5.0",
            "_view_name": "HTMLView",
            "description": "",
            "description_tooltip": null,
            "layout": "IPY_MODEL_af0acdf641664578814258f1b1e3ed6b",
            "placeholder": "​",
            "style": "IPY_MODEL_f258b2bcfcf74be4a27e549003e89937",
            "value": " 324624/324624 [00:26&lt;00:00, 7505.11it/s]"
          }
        },
        "41ac435cadf64f47b4f3c1a90e7b843a": {
          "model_module": "@jupyter-widgets/base",
          "model_name": "LayoutModel",
          "model_module_version": "1.2.0",
          "state": {
            "_model_module": "@jupyter-widgets/base",
            "_model_module_version": "1.2.0",
            "_model_name": "LayoutModel",
            "_view_count": null,
            "_view_module": "@jupyter-widgets/base",
            "_view_module_version": "1.2.0",
            "_view_name": "LayoutView",
            "align_content": null,
            "align_items": null,
            "align_self": null,
            "border": null,
            "bottom": null,
            "display": null,
            "flex": null,
            "flex_flow": null,
            "grid_area": null,
            "grid_auto_columns": null,
            "grid_auto_flow": null,
            "grid_auto_rows": null,
            "grid_column": null,
            "grid_gap": null,
            "grid_row": null,
            "grid_template_areas": null,
            "grid_template_columns": null,
            "grid_template_rows": null,
            "height": null,
            "justify_content": null,
            "justify_items": null,
            "left": null,
            "margin": null,
            "max_height": null,
            "max_width": null,
            "min_height": null,
            "min_width": null,
            "object_fit": null,
            "object_position": null,
            "order": null,
            "overflow": null,
            "overflow_x": null,
            "overflow_y": null,
            "padding": null,
            "right": null,
            "top": null,
            "visibility": null,
            "width": null
          }
        },
        "9ea4c432c4cf4c17a7731c6209c85485": {
          "model_module": "@jupyter-widgets/base",
          "model_name": "LayoutModel",
          "model_module_version": "1.2.0",
          "state": {
            "_model_module": "@jupyter-widgets/base",
            "_model_module_version": "1.2.0",
            "_model_name": "LayoutModel",
            "_view_count": null,
            "_view_module": "@jupyter-widgets/base",
            "_view_module_version": "1.2.0",
            "_view_name": "LayoutView",
            "align_content": null,
            "align_items": null,
            "align_self": null,
            "border": null,
            "bottom": null,
            "display": null,
            "flex": null,
            "flex_flow": null,
            "grid_area": null,
            "grid_auto_columns": null,
            "grid_auto_flow": null,
            "grid_auto_rows": null,
            "grid_column": null,
            "grid_gap": null,
            "grid_row": null,
            "grid_template_areas": null,
            "grid_template_columns": null,
            "grid_template_rows": null,
            "height": null,
            "justify_content": null,
            "justify_items": null,
            "left": null,
            "margin": null,
            "max_height": null,
            "max_width": null,
            "min_height": null,
            "min_width": null,
            "object_fit": null,
            "object_position": null,
            "order": null,
            "overflow": null,
            "overflow_x": null,
            "overflow_y": null,
            "padding": null,
            "right": null,
            "top": null,
            "visibility": null,
            "width": null
          }
        },
        "7099f422060c4cbd8253aa858fea9298": {
          "model_module": "@jupyter-widgets/controls",
          "model_name": "DescriptionStyleModel",
          "model_module_version": "1.5.0",
          "state": {
            "_model_module": "@jupyter-widgets/controls",
            "_model_module_version": "1.5.0",
            "_model_name": "DescriptionStyleModel",
            "_view_count": null,
            "_view_module": "@jupyter-widgets/base",
            "_view_module_version": "1.2.0",
            "_view_name": "StyleView",
            "description_width": ""
          }
        },
        "b6897541416f4871bee5d8c0f3ca4b4c": {
          "model_module": "@jupyter-widgets/base",
          "model_name": "LayoutModel",
          "model_module_version": "1.2.0",
          "state": {
            "_model_module": "@jupyter-widgets/base",
            "_model_module_version": "1.2.0",
            "_model_name": "LayoutModel",
            "_view_count": null,
            "_view_module": "@jupyter-widgets/base",
            "_view_module_version": "1.2.0",
            "_view_name": "LayoutView",
            "align_content": null,
            "align_items": null,
            "align_self": null,
            "border": null,
            "bottom": null,
            "display": null,
            "flex": null,
            "flex_flow": null,
            "grid_area": null,
            "grid_auto_columns": null,
            "grid_auto_flow": null,
            "grid_auto_rows": null,
            "grid_column": null,
            "grid_gap": null,
            "grid_row": null,
            "grid_template_areas": null,
            "grid_template_columns": null,
            "grid_template_rows": null,
            "height": null,
            "justify_content": null,
            "justify_items": null,
            "left": null,
            "margin": null,
            "max_height": null,
            "max_width": null,
            "min_height": null,
            "min_width": null,
            "object_fit": null,
            "object_position": null,
            "order": null,
            "overflow": null,
            "overflow_x": null,
            "overflow_y": null,
            "padding": null,
            "right": null,
            "top": null,
            "visibility": null,
            "width": null
          }
        },
        "c1cad4129f954a30b83abf06ebc1bd48": {
          "model_module": "@jupyter-widgets/controls",
          "model_name": "ProgressStyleModel",
          "model_module_version": "1.5.0",
          "state": {
            "_model_module": "@jupyter-widgets/controls",
            "_model_module_version": "1.5.0",
            "_model_name": "ProgressStyleModel",
            "_view_count": null,
            "_view_module": "@jupyter-widgets/base",
            "_view_module_version": "1.2.0",
            "_view_name": "StyleView",
            "bar_color": null,
            "description_width": ""
          }
        },
        "af0acdf641664578814258f1b1e3ed6b": {
          "model_module": "@jupyter-widgets/base",
          "model_name": "LayoutModel",
          "model_module_version": "1.2.0",
          "state": {
            "_model_module": "@jupyter-widgets/base",
            "_model_module_version": "1.2.0",
            "_model_name": "LayoutModel",
            "_view_count": null,
            "_view_module": "@jupyter-widgets/base",
            "_view_module_version": "1.2.0",
            "_view_name": "LayoutView",
            "align_content": null,
            "align_items": null,
            "align_self": null,
            "border": null,
            "bottom": null,
            "display": null,
            "flex": null,
            "flex_flow": null,
            "grid_area": null,
            "grid_auto_columns": null,
            "grid_auto_flow": null,
            "grid_auto_rows": null,
            "grid_column": null,
            "grid_gap": null,
            "grid_row": null,
            "grid_template_areas": null,
            "grid_template_columns": null,
            "grid_template_rows": null,
            "height": null,
            "justify_content": null,
            "justify_items": null,
            "left": null,
            "margin": null,
            "max_height": null,
            "max_width": null,
            "min_height": null,
            "min_width": null,
            "object_fit": null,
            "object_position": null,
            "order": null,
            "overflow": null,
            "overflow_x": null,
            "overflow_y": null,
            "padding": null,
            "right": null,
            "top": null,
            "visibility": null,
            "width": null
          }
        },
        "f258b2bcfcf74be4a27e549003e89937": {
          "model_module": "@jupyter-widgets/controls",
          "model_name": "DescriptionStyleModel",
          "model_module_version": "1.5.0",
          "state": {
            "_model_module": "@jupyter-widgets/controls",
            "_model_module_version": "1.5.0",
            "_model_name": "DescriptionStyleModel",
            "_view_count": null,
            "_view_module": "@jupyter-widgets/base",
            "_view_module_version": "1.2.0",
            "_view_name": "StyleView",
            "description_width": ""
          }
        },
        "4711240c7e2149099177a4ef0554f6d3": {
          "model_module": "@jupyter-widgets/controls",
          "model_name": "HBoxModel",
          "model_module_version": "1.5.0",
          "state": {
            "_dom_classes": [],
            "_model_module": "@jupyter-widgets/controls",
            "_model_module_version": "1.5.0",
            "_model_name": "HBoxModel",
            "_view_count": null,
            "_view_module": "@jupyter-widgets/controls",
            "_view_module_version": "1.5.0",
            "_view_name": "HBoxView",
            "box_style": "",
            "children": [
              "IPY_MODEL_ce5f24429bb04fdbaaa3cb83712bf998",
              "IPY_MODEL_2d5342e223d3463eb776700d0f6e68a7",
              "IPY_MODEL_55d73cc82ed54c11b47a6c6ff065739d"
            ],
            "layout": "IPY_MODEL_2ee814ab0cec4b7eb512085d1254f2e6"
          }
        },
        "ce5f24429bb04fdbaaa3cb83712bf998": {
          "model_module": "@jupyter-widgets/controls",
          "model_name": "HTMLModel",
          "model_module_version": "1.5.0",
          "state": {
            "_dom_classes": [],
            "_model_module": "@jupyter-widgets/controls",
            "_model_module_version": "1.5.0",
            "_model_name": "HTMLModel",
            "_view_count": null,
            "_view_module": "@jupyter-widgets/controls",
            "_view_module_version": "1.5.0",
            "_view_name": "HTMLView",
            "description": "",
            "description_tooltip": null,
            "layout": "IPY_MODEL_057e50ea3a4a4b7394aab2d149c69b4c",
            "placeholder": "​",
            "style": "IPY_MODEL_3231ec0ab53045239c02801095517f98",
            "value": "100%"
          }
        },
        "2d5342e223d3463eb776700d0f6e68a7": {
          "model_module": "@jupyter-widgets/controls",
          "model_name": "FloatProgressModel",
          "model_module_version": "1.5.0",
          "state": {
            "_dom_classes": [],
            "_model_module": "@jupyter-widgets/controls",
            "_model_module_version": "1.5.0",
            "_model_name": "FloatProgressModel",
            "_view_count": null,
            "_view_module": "@jupyter-widgets/controls",
            "_view_module_version": "1.5.0",
            "_view_name": "ProgressView",
            "bar_style": "success",
            "description": "",
            "description_tooltip": null,
            "layout": "IPY_MODEL_0e9bdda5cae449659ecd8c5ce854584a",
            "max": 324624,
            "min": 0,
            "orientation": "horizontal",
            "style": "IPY_MODEL_c8d300de6b904b18a663b876e56d3d81",
            "value": 324624
          }
        },
        "55d73cc82ed54c11b47a6c6ff065739d": {
          "model_module": "@jupyter-widgets/controls",
          "model_name": "HTMLModel",
          "model_module_version": "1.5.0",
          "state": {
            "_dom_classes": [],
            "_model_module": "@jupyter-widgets/controls",
            "_model_module_version": "1.5.0",
            "_model_name": "HTMLModel",
            "_view_count": null,
            "_view_module": "@jupyter-widgets/controls",
            "_view_module_version": "1.5.0",
            "_view_name": "HTMLView",
            "description": "",
            "description_tooltip": null,
            "layout": "IPY_MODEL_8409961041c440a5b086ceb0aec3e083",
            "placeholder": "​",
            "style": "IPY_MODEL_4a9f156a634d48c3bfd6e711320de35e",
            "value": " 324624/324624 [02:24&lt;00:00, 2857.69it/s]"
          }
        },
        "2ee814ab0cec4b7eb512085d1254f2e6": {
          "model_module": "@jupyter-widgets/base",
          "model_name": "LayoutModel",
          "model_module_version": "1.2.0",
          "state": {
            "_model_module": "@jupyter-widgets/base",
            "_model_module_version": "1.2.0",
            "_model_name": "LayoutModel",
            "_view_count": null,
            "_view_module": "@jupyter-widgets/base",
            "_view_module_version": "1.2.0",
            "_view_name": "LayoutView",
            "align_content": null,
            "align_items": null,
            "align_self": null,
            "border": null,
            "bottom": null,
            "display": null,
            "flex": null,
            "flex_flow": null,
            "grid_area": null,
            "grid_auto_columns": null,
            "grid_auto_flow": null,
            "grid_auto_rows": null,
            "grid_column": null,
            "grid_gap": null,
            "grid_row": null,
            "grid_template_areas": null,
            "grid_template_columns": null,
            "grid_template_rows": null,
            "height": null,
            "justify_content": null,
            "justify_items": null,
            "left": null,
            "margin": null,
            "max_height": null,
            "max_width": null,
            "min_height": null,
            "min_width": null,
            "object_fit": null,
            "object_position": null,
            "order": null,
            "overflow": null,
            "overflow_x": null,
            "overflow_y": null,
            "padding": null,
            "right": null,
            "top": null,
            "visibility": null,
            "width": null
          }
        },
        "057e50ea3a4a4b7394aab2d149c69b4c": {
          "model_module": "@jupyter-widgets/base",
          "model_name": "LayoutModel",
          "model_module_version": "1.2.0",
          "state": {
            "_model_module": "@jupyter-widgets/base",
            "_model_module_version": "1.2.0",
            "_model_name": "LayoutModel",
            "_view_count": null,
            "_view_module": "@jupyter-widgets/base",
            "_view_module_version": "1.2.0",
            "_view_name": "LayoutView",
            "align_content": null,
            "align_items": null,
            "align_self": null,
            "border": null,
            "bottom": null,
            "display": null,
            "flex": null,
            "flex_flow": null,
            "grid_area": null,
            "grid_auto_columns": null,
            "grid_auto_flow": null,
            "grid_auto_rows": null,
            "grid_column": null,
            "grid_gap": null,
            "grid_row": null,
            "grid_template_areas": null,
            "grid_template_columns": null,
            "grid_template_rows": null,
            "height": null,
            "justify_content": null,
            "justify_items": null,
            "left": null,
            "margin": null,
            "max_height": null,
            "max_width": null,
            "min_height": null,
            "min_width": null,
            "object_fit": null,
            "object_position": null,
            "order": null,
            "overflow": null,
            "overflow_x": null,
            "overflow_y": null,
            "padding": null,
            "right": null,
            "top": null,
            "visibility": null,
            "width": null
          }
        },
        "3231ec0ab53045239c02801095517f98": {
          "model_module": "@jupyter-widgets/controls",
          "model_name": "DescriptionStyleModel",
          "model_module_version": "1.5.0",
          "state": {
            "_model_module": "@jupyter-widgets/controls",
            "_model_module_version": "1.5.0",
            "_model_name": "DescriptionStyleModel",
            "_view_count": null,
            "_view_module": "@jupyter-widgets/base",
            "_view_module_version": "1.2.0",
            "_view_name": "StyleView",
            "description_width": ""
          }
        },
        "0e9bdda5cae449659ecd8c5ce854584a": {
          "model_module": "@jupyter-widgets/base",
          "model_name": "LayoutModel",
          "model_module_version": "1.2.0",
          "state": {
            "_model_module": "@jupyter-widgets/base",
            "_model_module_version": "1.2.0",
            "_model_name": "LayoutModel",
            "_view_count": null,
            "_view_module": "@jupyter-widgets/base",
            "_view_module_version": "1.2.0",
            "_view_name": "LayoutView",
            "align_content": null,
            "align_items": null,
            "align_self": null,
            "border": null,
            "bottom": null,
            "display": null,
            "flex": null,
            "flex_flow": null,
            "grid_area": null,
            "grid_auto_columns": null,
            "grid_auto_flow": null,
            "grid_auto_rows": null,
            "grid_column": null,
            "grid_gap": null,
            "grid_row": null,
            "grid_template_areas": null,
            "grid_template_columns": null,
            "grid_template_rows": null,
            "height": null,
            "justify_content": null,
            "justify_items": null,
            "left": null,
            "margin": null,
            "max_height": null,
            "max_width": null,
            "min_height": null,
            "min_width": null,
            "object_fit": null,
            "object_position": null,
            "order": null,
            "overflow": null,
            "overflow_x": null,
            "overflow_y": null,
            "padding": null,
            "right": null,
            "top": null,
            "visibility": null,
            "width": null
          }
        },
        "c8d300de6b904b18a663b876e56d3d81": {
          "model_module": "@jupyter-widgets/controls",
          "model_name": "ProgressStyleModel",
          "model_module_version": "1.5.0",
          "state": {
            "_model_module": "@jupyter-widgets/controls",
            "_model_module_version": "1.5.0",
            "_model_name": "ProgressStyleModel",
            "_view_count": null,
            "_view_module": "@jupyter-widgets/base",
            "_view_module_version": "1.2.0",
            "_view_name": "StyleView",
            "bar_color": null,
            "description_width": ""
          }
        },
        "8409961041c440a5b086ceb0aec3e083": {
          "model_module": "@jupyter-widgets/base",
          "model_name": "LayoutModel",
          "model_module_version": "1.2.0",
          "state": {
            "_model_module": "@jupyter-widgets/base",
            "_model_module_version": "1.2.0",
            "_model_name": "LayoutModel",
            "_view_count": null,
            "_view_module": "@jupyter-widgets/base",
            "_view_module_version": "1.2.0",
            "_view_name": "LayoutView",
            "align_content": null,
            "align_items": null,
            "align_self": null,
            "border": null,
            "bottom": null,
            "display": null,
            "flex": null,
            "flex_flow": null,
            "grid_area": null,
            "grid_auto_columns": null,
            "grid_auto_flow": null,
            "grid_auto_rows": null,
            "grid_column": null,
            "grid_gap": null,
            "grid_row": null,
            "grid_template_areas": null,
            "grid_template_columns": null,
            "grid_template_rows": null,
            "height": null,
            "justify_content": null,
            "justify_items": null,
            "left": null,
            "margin": null,
            "max_height": null,
            "max_width": null,
            "min_height": null,
            "min_width": null,
            "object_fit": null,
            "object_position": null,
            "order": null,
            "overflow": null,
            "overflow_x": null,
            "overflow_y": null,
            "padding": null,
            "right": null,
            "top": null,
            "visibility": null,
            "width": null
          }
        },
        "4a9f156a634d48c3bfd6e711320de35e": {
          "model_module": "@jupyter-widgets/controls",
          "model_name": "DescriptionStyleModel",
          "model_module_version": "1.5.0",
          "state": {
            "_model_module": "@jupyter-widgets/controls",
            "_model_module_version": "1.5.0",
            "_model_name": "DescriptionStyleModel",
            "_view_count": null,
            "_view_module": "@jupyter-widgets/base",
            "_view_module_version": "1.2.0",
            "_view_name": "StyleView",
            "description_width": ""
          }
        },
        "82cc6ed13eba4642a638b3cdddd33a93": {
          "model_module": "@jupyter-widgets/controls",
          "model_name": "HBoxModel",
          "model_module_version": "1.5.0",
          "state": {
            "_dom_classes": [],
            "_model_module": "@jupyter-widgets/controls",
            "_model_module_version": "1.5.0",
            "_model_name": "HBoxModel",
            "_view_count": null,
            "_view_module": "@jupyter-widgets/controls",
            "_view_module_version": "1.5.0",
            "_view_name": "HBoxView",
            "box_style": "",
            "children": [
              "IPY_MODEL_8361dc8feb2c43ff98598264ead084f5",
              "IPY_MODEL_ac7fd78b991d443096642d6c7d7471df",
              "IPY_MODEL_de3c836f12fa46ebae2101d1e651289f"
            ],
            "layout": "IPY_MODEL_d04ff134621e48f792e0140c2c4d299a"
          }
        },
        "8361dc8feb2c43ff98598264ead084f5": {
          "model_module": "@jupyter-widgets/controls",
          "model_name": "HTMLModel",
          "model_module_version": "1.5.0",
          "state": {
            "_dom_classes": [],
            "_model_module": "@jupyter-widgets/controls",
            "_model_module_version": "1.5.0",
            "_model_name": "HTMLModel",
            "_view_count": null,
            "_view_module": "@jupyter-widgets/controls",
            "_view_module_version": "1.5.0",
            "_view_name": "HTMLView",
            "description": "",
            "description_tooltip": null,
            "layout": "IPY_MODEL_ef4501b951054e5483bf7c3815a377dd",
            "placeholder": "​",
            "style": "IPY_MODEL_31e2fd874ae84826b6c488508fcc27d7",
            "value": "100%"
          }
        },
        "ac7fd78b991d443096642d6c7d7471df": {
          "model_module": "@jupyter-widgets/controls",
          "model_name": "FloatProgressModel",
          "model_module_version": "1.5.0",
          "state": {
            "_dom_classes": [],
            "_model_module": "@jupyter-widgets/controls",
            "_model_module_version": "1.5.0",
            "_model_name": "FloatProgressModel",
            "_view_count": null,
            "_view_module": "@jupyter-widgets/controls",
            "_view_module_version": "1.5.0",
            "_view_name": "ProgressView",
            "bar_style": "success",
            "description": "",
            "description_tooltip": null,
            "layout": "IPY_MODEL_ae1875cd0ef44345a5561e391f023fc8",
            "max": 324624,
            "min": 0,
            "orientation": "horizontal",
            "style": "IPY_MODEL_54668f004d014fcba9e82994af6799b1",
            "value": 324624
          }
        },
        "de3c836f12fa46ebae2101d1e651289f": {
          "model_module": "@jupyter-widgets/controls",
          "model_name": "HTMLModel",
          "model_module_version": "1.5.0",
          "state": {
            "_dom_classes": [],
            "_model_module": "@jupyter-widgets/controls",
            "_model_module_version": "1.5.0",
            "_model_name": "HTMLModel",
            "_view_count": null,
            "_view_module": "@jupyter-widgets/controls",
            "_view_module_version": "1.5.0",
            "_view_name": "HTMLView",
            "description": "",
            "description_tooltip": null,
            "layout": "IPY_MODEL_6696a6c7843446198750c6388247a3c0",
            "placeholder": "​",
            "style": "IPY_MODEL_9592485af99f4899944426cb66ffcfc1",
            "value": " 324624/324624 [00:20&lt;00:00, 14980.72it/s]"
          }
        },
        "d04ff134621e48f792e0140c2c4d299a": {
          "model_module": "@jupyter-widgets/base",
          "model_name": "LayoutModel",
          "model_module_version": "1.2.0",
          "state": {
            "_model_module": "@jupyter-widgets/base",
            "_model_module_version": "1.2.0",
            "_model_name": "LayoutModel",
            "_view_count": null,
            "_view_module": "@jupyter-widgets/base",
            "_view_module_version": "1.2.0",
            "_view_name": "LayoutView",
            "align_content": null,
            "align_items": null,
            "align_self": null,
            "border": null,
            "bottom": null,
            "display": null,
            "flex": null,
            "flex_flow": null,
            "grid_area": null,
            "grid_auto_columns": null,
            "grid_auto_flow": null,
            "grid_auto_rows": null,
            "grid_column": null,
            "grid_gap": null,
            "grid_row": null,
            "grid_template_areas": null,
            "grid_template_columns": null,
            "grid_template_rows": null,
            "height": null,
            "justify_content": null,
            "justify_items": null,
            "left": null,
            "margin": null,
            "max_height": null,
            "max_width": null,
            "min_height": null,
            "min_width": null,
            "object_fit": null,
            "object_position": null,
            "order": null,
            "overflow": null,
            "overflow_x": null,
            "overflow_y": null,
            "padding": null,
            "right": null,
            "top": null,
            "visibility": null,
            "width": null
          }
        },
        "ef4501b951054e5483bf7c3815a377dd": {
          "model_module": "@jupyter-widgets/base",
          "model_name": "LayoutModel",
          "model_module_version": "1.2.0",
          "state": {
            "_model_module": "@jupyter-widgets/base",
            "_model_module_version": "1.2.0",
            "_model_name": "LayoutModel",
            "_view_count": null,
            "_view_module": "@jupyter-widgets/base",
            "_view_module_version": "1.2.0",
            "_view_name": "LayoutView",
            "align_content": null,
            "align_items": null,
            "align_self": null,
            "border": null,
            "bottom": null,
            "display": null,
            "flex": null,
            "flex_flow": null,
            "grid_area": null,
            "grid_auto_columns": null,
            "grid_auto_flow": null,
            "grid_auto_rows": null,
            "grid_column": null,
            "grid_gap": null,
            "grid_row": null,
            "grid_template_areas": null,
            "grid_template_columns": null,
            "grid_template_rows": null,
            "height": null,
            "justify_content": null,
            "justify_items": null,
            "left": null,
            "margin": null,
            "max_height": null,
            "max_width": null,
            "min_height": null,
            "min_width": null,
            "object_fit": null,
            "object_position": null,
            "order": null,
            "overflow": null,
            "overflow_x": null,
            "overflow_y": null,
            "padding": null,
            "right": null,
            "top": null,
            "visibility": null,
            "width": null
          }
        },
        "31e2fd874ae84826b6c488508fcc27d7": {
          "model_module": "@jupyter-widgets/controls",
          "model_name": "DescriptionStyleModel",
          "model_module_version": "1.5.0",
          "state": {
            "_model_module": "@jupyter-widgets/controls",
            "_model_module_version": "1.5.0",
            "_model_name": "DescriptionStyleModel",
            "_view_count": null,
            "_view_module": "@jupyter-widgets/base",
            "_view_module_version": "1.2.0",
            "_view_name": "StyleView",
            "description_width": ""
          }
        },
        "ae1875cd0ef44345a5561e391f023fc8": {
          "model_module": "@jupyter-widgets/base",
          "model_name": "LayoutModel",
          "model_module_version": "1.2.0",
          "state": {
            "_model_module": "@jupyter-widgets/base",
            "_model_module_version": "1.2.0",
            "_model_name": "LayoutModel",
            "_view_count": null,
            "_view_module": "@jupyter-widgets/base",
            "_view_module_version": "1.2.0",
            "_view_name": "LayoutView",
            "align_content": null,
            "align_items": null,
            "align_self": null,
            "border": null,
            "bottom": null,
            "display": null,
            "flex": null,
            "flex_flow": null,
            "grid_area": null,
            "grid_auto_columns": null,
            "grid_auto_flow": null,
            "grid_auto_rows": null,
            "grid_column": null,
            "grid_gap": null,
            "grid_row": null,
            "grid_template_areas": null,
            "grid_template_columns": null,
            "grid_template_rows": null,
            "height": null,
            "justify_content": null,
            "justify_items": null,
            "left": null,
            "margin": null,
            "max_height": null,
            "max_width": null,
            "min_height": null,
            "min_width": null,
            "object_fit": null,
            "object_position": null,
            "order": null,
            "overflow": null,
            "overflow_x": null,
            "overflow_y": null,
            "padding": null,
            "right": null,
            "top": null,
            "visibility": null,
            "width": null
          }
        },
        "54668f004d014fcba9e82994af6799b1": {
          "model_module": "@jupyter-widgets/controls",
          "model_name": "ProgressStyleModel",
          "model_module_version": "1.5.0",
          "state": {
            "_model_module": "@jupyter-widgets/controls",
            "_model_module_version": "1.5.0",
            "_model_name": "ProgressStyleModel",
            "_view_count": null,
            "_view_module": "@jupyter-widgets/base",
            "_view_module_version": "1.2.0",
            "_view_name": "StyleView",
            "bar_color": null,
            "description_width": ""
          }
        },
        "6696a6c7843446198750c6388247a3c0": {
          "model_module": "@jupyter-widgets/base",
          "model_name": "LayoutModel",
          "model_module_version": "1.2.0",
          "state": {
            "_model_module": "@jupyter-widgets/base",
            "_model_module_version": "1.2.0",
            "_model_name": "LayoutModel",
            "_view_count": null,
            "_view_module": "@jupyter-widgets/base",
            "_view_module_version": "1.2.0",
            "_view_name": "LayoutView",
            "align_content": null,
            "align_items": null,
            "align_self": null,
            "border": null,
            "bottom": null,
            "display": null,
            "flex": null,
            "flex_flow": null,
            "grid_area": null,
            "grid_auto_columns": null,
            "grid_auto_flow": null,
            "grid_auto_rows": null,
            "grid_column": null,
            "grid_gap": null,
            "grid_row": null,
            "grid_template_areas": null,
            "grid_template_columns": null,
            "grid_template_rows": null,
            "height": null,
            "justify_content": null,
            "justify_items": null,
            "left": null,
            "margin": null,
            "max_height": null,
            "max_width": null,
            "min_height": null,
            "min_width": null,
            "object_fit": null,
            "object_position": null,
            "order": null,
            "overflow": null,
            "overflow_x": null,
            "overflow_y": null,
            "padding": null,
            "right": null,
            "top": null,
            "visibility": null,
            "width": null
          }
        },
        "9592485af99f4899944426cb66ffcfc1": {
          "model_module": "@jupyter-widgets/controls",
          "model_name": "DescriptionStyleModel",
          "model_module_version": "1.5.0",
          "state": {
            "_model_module": "@jupyter-widgets/controls",
            "_model_module_version": "1.5.0",
            "_model_name": "DescriptionStyleModel",
            "_view_count": null,
            "_view_module": "@jupyter-widgets/base",
            "_view_module_version": "1.2.0",
            "_view_name": "StyleView",
            "description_width": ""
          }
        },
        "8413d820c13640c4b07727e3d36a0260": {
          "model_module": "@jupyter-widgets/controls",
          "model_name": "HBoxModel",
          "model_module_version": "1.5.0",
          "state": {
            "_dom_classes": [],
            "_model_module": "@jupyter-widgets/controls",
            "_model_module_version": "1.5.0",
            "_model_name": "HBoxModel",
            "_view_count": null,
            "_view_module": "@jupyter-widgets/controls",
            "_view_module_version": "1.5.0",
            "_view_name": "HBoxView",
            "box_style": "",
            "children": [
              "IPY_MODEL_c41fe88740cd40d894c2ac73be1e4497",
              "IPY_MODEL_62f51640a4294a97ae746484587d35f4",
              "IPY_MODEL_f56125fbe5cb4dfeaa77ce264dc91bc7"
            ],
            "layout": "IPY_MODEL_a6c525cb496243a0bd6e6d1ef25aad6c"
          }
        },
        "c41fe88740cd40d894c2ac73be1e4497": {
          "model_module": "@jupyter-widgets/controls",
          "model_name": "HTMLModel",
          "model_module_version": "1.5.0",
          "state": {
            "_dom_classes": [],
            "_model_module": "@jupyter-widgets/controls",
            "_model_module_version": "1.5.0",
            "_model_name": "HTMLModel",
            "_view_count": null,
            "_view_module": "@jupyter-widgets/controls",
            "_view_module_version": "1.5.0",
            "_view_name": "HTMLView",
            "description": "",
            "description_tooltip": null,
            "layout": "IPY_MODEL_ee6277e629364535a79bd6d4c5815bb8",
            "placeholder": "​",
            "style": "IPY_MODEL_01fe982ffe8a485c98324ede0f000dab",
            "value": "100%"
          }
        },
        "62f51640a4294a97ae746484587d35f4": {
          "model_module": "@jupyter-widgets/controls",
          "model_name": "FloatProgressModel",
          "model_module_version": "1.5.0",
          "state": {
            "_dom_classes": [],
            "_model_module": "@jupyter-widgets/controls",
            "_model_module_version": "1.5.0",
            "_model_name": "FloatProgressModel",
            "_view_count": null,
            "_view_module": "@jupyter-widgets/controls",
            "_view_module_version": "1.5.0",
            "_view_name": "ProgressView",
            "bar_style": "success",
            "description": "",
            "description_tooltip": null,
            "layout": "IPY_MODEL_8de89e3ea43f4023b3d21f7ba65c406f",
            "max": 324624,
            "min": 0,
            "orientation": "horizontal",
            "style": "IPY_MODEL_4d2400b7be1840cd8f8afda60c6ad476",
            "value": 324624
          }
        },
        "f56125fbe5cb4dfeaa77ce264dc91bc7": {
          "model_module": "@jupyter-widgets/controls",
          "model_name": "HTMLModel",
          "model_module_version": "1.5.0",
          "state": {
            "_dom_classes": [],
            "_model_module": "@jupyter-widgets/controls",
            "_model_module_version": "1.5.0",
            "_model_name": "HTMLModel",
            "_view_count": null,
            "_view_module": "@jupyter-widgets/controls",
            "_view_module_version": "1.5.0",
            "_view_name": "HTMLView",
            "description": "",
            "description_tooltip": null,
            "layout": "IPY_MODEL_0a46cbdcdb01408bae75ce407e9f8afa",
            "placeholder": "​",
            "style": "IPY_MODEL_25caf5709ecf45369ba19d350311614a",
            "value": " 324624/324624 [04:34&lt;00:00, 1953.91it/s]"
          }
        },
        "a6c525cb496243a0bd6e6d1ef25aad6c": {
          "model_module": "@jupyter-widgets/base",
          "model_name": "LayoutModel",
          "model_module_version": "1.2.0",
          "state": {
            "_model_module": "@jupyter-widgets/base",
            "_model_module_version": "1.2.0",
            "_model_name": "LayoutModel",
            "_view_count": null,
            "_view_module": "@jupyter-widgets/base",
            "_view_module_version": "1.2.0",
            "_view_name": "LayoutView",
            "align_content": null,
            "align_items": null,
            "align_self": null,
            "border": null,
            "bottom": null,
            "display": null,
            "flex": null,
            "flex_flow": null,
            "grid_area": null,
            "grid_auto_columns": null,
            "grid_auto_flow": null,
            "grid_auto_rows": null,
            "grid_column": null,
            "grid_gap": null,
            "grid_row": null,
            "grid_template_areas": null,
            "grid_template_columns": null,
            "grid_template_rows": null,
            "height": null,
            "justify_content": null,
            "justify_items": null,
            "left": null,
            "margin": null,
            "max_height": null,
            "max_width": null,
            "min_height": null,
            "min_width": null,
            "object_fit": null,
            "object_position": null,
            "order": null,
            "overflow": null,
            "overflow_x": null,
            "overflow_y": null,
            "padding": null,
            "right": null,
            "top": null,
            "visibility": null,
            "width": null
          }
        },
        "ee6277e629364535a79bd6d4c5815bb8": {
          "model_module": "@jupyter-widgets/base",
          "model_name": "LayoutModel",
          "model_module_version": "1.2.0",
          "state": {
            "_model_module": "@jupyter-widgets/base",
            "_model_module_version": "1.2.0",
            "_model_name": "LayoutModel",
            "_view_count": null,
            "_view_module": "@jupyter-widgets/base",
            "_view_module_version": "1.2.0",
            "_view_name": "LayoutView",
            "align_content": null,
            "align_items": null,
            "align_self": null,
            "border": null,
            "bottom": null,
            "display": null,
            "flex": null,
            "flex_flow": null,
            "grid_area": null,
            "grid_auto_columns": null,
            "grid_auto_flow": null,
            "grid_auto_rows": null,
            "grid_column": null,
            "grid_gap": null,
            "grid_row": null,
            "grid_template_areas": null,
            "grid_template_columns": null,
            "grid_template_rows": null,
            "height": null,
            "justify_content": null,
            "justify_items": null,
            "left": null,
            "margin": null,
            "max_height": null,
            "max_width": null,
            "min_height": null,
            "min_width": null,
            "object_fit": null,
            "object_position": null,
            "order": null,
            "overflow": null,
            "overflow_x": null,
            "overflow_y": null,
            "padding": null,
            "right": null,
            "top": null,
            "visibility": null,
            "width": null
          }
        },
        "01fe982ffe8a485c98324ede0f000dab": {
          "model_module": "@jupyter-widgets/controls",
          "model_name": "DescriptionStyleModel",
          "model_module_version": "1.5.0",
          "state": {
            "_model_module": "@jupyter-widgets/controls",
            "_model_module_version": "1.5.0",
            "_model_name": "DescriptionStyleModel",
            "_view_count": null,
            "_view_module": "@jupyter-widgets/base",
            "_view_module_version": "1.2.0",
            "_view_name": "StyleView",
            "description_width": ""
          }
        },
        "8de89e3ea43f4023b3d21f7ba65c406f": {
          "model_module": "@jupyter-widgets/base",
          "model_name": "LayoutModel",
          "model_module_version": "1.2.0",
          "state": {
            "_model_module": "@jupyter-widgets/base",
            "_model_module_version": "1.2.0",
            "_model_name": "LayoutModel",
            "_view_count": null,
            "_view_module": "@jupyter-widgets/base",
            "_view_module_version": "1.2.0",
            "_view_name": "LayoutView",
            "align_content": null,
            "align_items": null,
            "align_self": null,
            "border": null,
            "bottom": null,
            "display": null,
            "flex": null,
            "flex_flow": null,
            "grid_area": null,
            "grid_auto_columns": null,
            "grid_auto_flow": null,
            "grid_auto_rows": null,
            "grid_column": null,
            "grid_gap": null,
            "grid_row": null,
            "grid_template_areas": null,
            "grid_template_columns": null,
            "grid_template_rows": null,
            "height": null,
            "justify_content": null,
            "justify_items": null,
            "left": null,
            "margin": null,
            "max_height": null,
            "max_width": null,
            "min_height": null,
            "min_width": null,
            "object_fit": null,
            "object_position": null,
            "order": null,
            "overflow": null,
            "overflow_x": null,
            "overflow_y": null,
            "padding": null,
            "right": null,
            "top": null,
            "visibility": null,
            "width": null
          }
        },
        "4d2400b7be1840cd8f8afda60c6ad476": {
          "model_module": "@jupyter-widgets/controls",
          "model_name": "ProgressStyleModel",
          "model_module_version": "1.5.0",
          "state": {
            "_model_module": "@jupyter-widgets/controls",
            "_model_module_version": "1.5.0",
            "_model_name": "ProgressStyleModel",
            "_view_count": null,
            "_view_module": "@jupyter-widgets/base",
            "_view_module_version": "1.2.0",
            "_view_name": "StyleView",
            "bar_color": null,
            "description_width": ""
          }
        },
        "0a46cbdcdb01408bae75ce407e9f8afa": {
          "model_module": "@jupyter-widgets/base",
          "model_name": "LayoutModel",
          "model_module_version": "1.2.0",
          "state": {
            "_model_module": "@jupyter-widgets/base",
            "_model_module_version": "1.2.0",
            "_model_name": "LayoutModel",
            "_view_count": null,
            "_view_module": "@jupyter-widgets/base",
            "_view_module_version": "1.2.0",
            "_view_name": "LayoutView",
            "align_content": null,
            "align_items": null,
            "align_self": null,
            "border": null,
            "bottom": null,
            "display": null,
            "flex": null,
            "flex_flow": null,
            "grid_area": null,
            "grid_auto_columns": null,
            "grid_auto_flow": null,
            "grid_auto_rows": null,
            "grid_column": null,
            "grid_gap": null,
            "grid_row": null,
            "grid_template_areas": null,
            "grid_template_columns": null,
            "grid_template_rows": null,
            "height": null,
            "justify_content": null,
            "justify_items": null,
            "left": null,
            "margin": null,
            "max_height": null,
            "max_width": null,
            "min_height": null,
            "min_width": null,
            "object_fit": null,
            "object_position": null,
            "order": null,
            "overflow": null,
            "overflow_x": null,
            "overflow_y": null,
            "padding": null,
            "right": null,
            "top": null,
            "visibility": null,
            "width": null
          }
        },
        "25caf5709ecf45369ba19d350311614a": {
          "model_module": "@jupyter-widgets/controls",
          "model_name": "DescriptionStyleModel",
          "model_module_version": "1.5.0",
          "state": {
            "_model_module": "@jupyter-widgets/controls",
            "_model_module_version": "1.5.0",
            "_model_name": "DescriptionStyleModel",
            "_view_count": null,
            "_view_module": "@jupyter-widgets/base",
            "_view_module_version": "1.2.0",
            "_view_name": "StyleView",
            "description_width": ""
          }
        }
      }
    }
  },
  "nbformat": 4,
  "nbformat_minor": 0
}